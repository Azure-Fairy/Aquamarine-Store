{
 "cells": [
  {
   "cell_type": "code",
   "execution_count": 2,
   "id": "59d9adb2",
   "metadata": {},
   "outputs": [
    {
     "data": {
      "text/plain": [
       "1267650600228229401496703205376"
      ]
     },
     "execution_count": 2,
     "metadata": {},
     "output_type": "execute_result"
    }
   ],
   "source": [
    "#一、整数类型（整数无上下限）\n",
    "#十进制\n",
    "105\n",
    "pow(2,100) #2的100次方。"
   ]
  },
  {
   "cell_type": "code",
   "execution_count": 4,
   "id": "36ba3159",
   "metadata": {},
   "outputs": [
    {
     "data": {
      "text/plain": [
       "-7"
      ]
     },
     "execution_count": 4,
     "metadata": {},
     "output_type": "execute_result"
    }
   ],
   "source": [
    "#二进制，以0b或0B开头\n",
    "0b101\n",
    "-0B111"
   ]
  },
  {
   "cell_type": "code",
   "execution_count": 7,
   "id": "04feae55",
   "metadata": {},
   "outputs": [
    {
     "data": {
      "text/plain": [
       "-302"
      ]
     },
     "execution_count": 7,
     "metadata": {},
     "output_type": "execute_result"
    }
   ],
   "source": [
    "#八进制，以0o和0O开头\n",
    "0o123\n",
    "-0O456"
   ]
  },
  {
   "cell_type": "code",
   "execution_count": 9,
   "id": "ba5e086d",
   "metadata": {},
   "outputs": [
    {
     "data": {
      "text/plain": [
       "-1057"
      ]
     },
     "execution_count": 9,
     "metadata": {},
     "output_type": "execute_result"
    }
   ],
   "source": [
    "#十六进制，以0x或0X开头\n",
    "0x125\n",
    "-0X421"
   ]
  },
  {
   "cell_type": "code",
   "execution_count": 11,
   "id": "fbaebc79",
   "metadata": {},
   "outputs": [
    {
     "data": {
      "text/plain": [
       "False"
      ]
     },
     "execution_count": 11,
     "metadata": {},
     "output_type": "execute_result"
    }
   ],
   "source": [
    "#二、浮点数类型（浮点数类型带有小数点，和实数概念一致、上下限为-10^308 ~ 10^308,精度为10^-16）\n",
    "#浮点数计算存在不确定尾数，如0.1+0.2=0.3000000000000004，原因为二进制在小数时和十进制不完全对等，而计算精度有限，因此出现取舍\n",
    "0.1 + 0.2 == 0.3"
   ]
  },
  {
   "cell_type": "code",
   "execution_count": 12,
   "id": "062c2a9a",
   "metadata": {},
   "outputs": [
    {
     "data": {
      "text/plain": [
       "True"
      ]
     },
     "execution_count": 12,
     "metadata": {},
     "output_type": "execute_result"
    }
   ],
   "source": [
    "#因此可以使用round函数，round函数为四舍五入。round(x,y),x指应四舍五入的数，y指小数截取的位数\n",
    "round(0.1 + 0.2,1) == 0.3"
   ]
  },
  {
   "cell_type": "code",
   "execution_count": 14,
   "id": "0fbcc332",
   "metadata": {},
   "outputs": [
    {
     "data": {
      "text/plain": [
       "960000.0"
      ]
     },
     "execution_count": 14,
     "metadata": {},
     "output_type": "execute_result"
    }
   ],
   "source": [
    "#此外，浮点数可以使用<a>e<b>的格式，表示a*10^b\n",
    "9.6E5"
   ]
  },
  {
   "cell_type": "code",
   "execution_count": 25,
   "id": "6c51ef0b",
   "metadata": {},
   "outputs": [
    {
     "data": {
      "text/plain": [
       "31.003533398375005"
      ]
     },
     "execution_count": 25,
     "metadata": {},
     "output_type": "execute_result"
    }
   ],
   "source": [
    "#三、计算公式\n",
    "#①——加法(+)、减法(-)、乘法(*)、除法(/)、整除求商(//)、除法求余数(%)、自身表达（即+x=x)、幂(**)\n",
    "#②——二元操作符,即xOP=y，含义为赋值x=xOPy\n",
    "x = 3.1415\n",
    "x **= 3 #为x = x ** y\n",
    "x"
   ]
  },
  {
   "cell_type": "code",
   "execution_count": null,
   "id": "879c1bce",
   "metadata": {},
   "outputs": [],
   "source": []
  },
  {
   "cell_type": "code",
   "execution_count": null,
   "id": "4fbcf0d3",
   "metadata": {},
   "outputs": [],
   "source": []
  }
 ],
 "metadata": {
  "kernelspec": {
   "display_name": "Python 3",
   "language": "python",
   "name": "python3"
  },
  "language_info": {
   "codemirror_mode": {
    "name": "ipython",
    "version": 3
   },
   "file_extension": ".py",
   "mimetype": "text/x-python",
   "name": "python",
   "nbconvert_exporter": "python",
   "pygments_lexer": "ipython3",
   "version": "3.8.8"
  }
 },
 "nbformat": 4,
 "nbformat_minor": 5
}
