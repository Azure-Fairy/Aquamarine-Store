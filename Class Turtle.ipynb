{
 "cells": [
  {
   "cell_type": "code",
   "execution_count": 2,
   "id": "7f2794ad",
   "metadata": {},
   "outputs": [],
   "source": [
    "import turtle #启动Turtle库\n",
    "turtle.setup(500,500) #设置窗口位置，分别为（宽度，高度，x轴位置（左为原点），y轴位置（上为原点）），其中，x和y轴位置可省略，省略时默认为中心\n",
    "\n",
    "#路径前进（绝对路标前进）\n",
    "turtle.goto(100,100) #到达x=100，y=100的点，以图形中心为原点\n",
    "turtle.goto(100,-100) #到达x=100，y=-100的点\n",
    "turtle.goto(-100,-100)\n",
    "turtle.goto(-100,100)\n",
    "turtle.goto(0,0)\n",
    "turtle.done() #设定程序不会自动退出"
   ]
  },
  {
   "cell_type": "code",
   "execution_count": 5,
   "id": "38266e1a",
   "metadata": {},
   "outputs": [],
   "source": [
    "import turtle #启动Turtle库\n",
    "turtle.setup(500,500) #设置窗口位置，分别为（宽度，高度，x轴位置（左为原点），y轴位置（上为原点）），其中，x和y轴位置可省略，省略时默认为中心\n",
    "\n",
    "#路径前进（相对路标前进）\n",
    "turtle.fd(100)\n",
    "#向前100个像素\n",
    "turtle.bk(200)\n",
    "#向后200个像素\n",
    "turtle.circle(50,250)\n",
    "#以左侧50像素为圆心进行曲线运行250°（默认为360°）"
   ]
  },
  {
   "cell_type": "code",
   "execution_count": 14,
   "id": "091fffa9",
   "metadata": {},
   "outputs": [],
   "source": [
    "import turtle #启动Turtle库\n",
    "turtle.setup(500,500) #设置窗口位置，分别为（宽度，高度，x轴位置（左为原点），y轴位置（上为原点）），其中，x和y轴位置可省略，省略时默认为中心\n",
    "\n",
    "#路径前进（改变绝对角度前进）\n",
    "turtle.setheading(45)\n",
    "#也可turtle.seth(45)\n",
    "#角度以x正方向为起始，逆时针角度方向45°为方向前进（永远以x正方向为起始，不受当前turtle角度影响）。\n",
    "turtle.fd(50)\n",
    "\n",
    "#路径前进（改变相对角度前进）\n",
    "turtle.right(135) #向右转135°\n",
    "turtle.fd(100)\n",
    "turtle.left(135) #向左转135°\n",
    "turtle.fd(50)\n",
    "#最终结果为Z字平行线"
   ]
  },
  {
   "cell_type": "code",
   "execution_count": 15,
   "id": "9978a164",
   "metadata": {},
   "outputs": [],
   "source": [
    "import turtle #启动Turtle库\n",
    "turtle.setup(500,500) #设置窗口位置，分别为（宽度，高度，x轴位置（左为原点），y轴位置（上为原点）），其中，x和y轴位置可省略，省略时默认为中心\n",
    "\n",
    "#turtle库颜色改变\n",
    "turtle.colormode(255) #设置RGB颜色模式，模式有1.0（小数）和255（整数）两种，选定某一种后，后续调整均需使用该模式"
   ]
  },
  {
   "cell_type": "code",
   "execution_count": null,
   "id": "6d04c8a2",
   "metadata": {},
   "outputs": [],
   "source": [
    "from turtle import\n",
    "#使用这种引用库的方式，则后续不需要在每次命令调用的时候调用turtle库，即不需要turtle.XXX，而是直接XXX\n",
    "#但是这样容易出现函数重名问题，会造成影响"
   ]
  },
  {
   "cell_type": "code",
   "execution_count": null,
   "id": "a9bd640e",
   "metadata": {},
   "outputs": [],
   "source": [
    "import turtle as guigui\n",
    "#给turtle库起一个小名guigui，以后用guigui进行代替，方便记忆。\n",
    "#比起常规的import和from import方式，这种方式效果更好。"
   ]
  },
  {
   "cell_type": "code",
   "execution_count": null,
   "id": "d9c25485",
   "metadata": {},
   "outputs": [],
   "source": [
    "import turtle #启动Turtle库\n",
    "turtle.penup() #penup=pu,提笔，相当于不划线进行移动\n",
    "turtle.pendown() #pendown=pd,落笔，相当于开始划线移动\n",
    "turtle.pensize(25) #pensize=width，表示划线画笔的宽度为25像素\n",
    "turtle.pencolor(0.63,0.13,0.94) \n",
    "#进行涂色,也可使用这种形式。\n",
    "#turtle.pencolor((0.63,0.13,0.94))"
   ]
  },
  {
   "cell_type": "code",
   "execution_count": 13,
   "id": "4c3be429",
   "metadata": {},
   "outputs": [],
   "source": [
    "#turtle 蟒蛇绘制\n",
    "import turtle as guigui\n",
    "guigui.setup(650,350,200,200)\n",
    "guigui.pu()\n",
    "guigui.fd(-250)\n",
    "guigui.pd()\n",
    "guigui.pensize(20)\n",
    "guigui.pencolor(\"purple\")\n",
    "guigui.seth(-40)\n",
    "for i in range(4):\n",
    "    guigui.circle(40,80)\n",
    "    guigui.circle(-40,80)\n",
    "guigui.circle(40,40)\n",
    "guigui.fd(40)\n",
    "guigui.circle(16,180)\n",
    "guigui.fd(40)\n",
    "guigui.done()"
   ]
  },
  {
   "cell_type": "code",
   "execution_count": 28,
   "id": "78acbb6d",
   "metadata": {},
   "outputs": [],
   "source": [
    "# 操作实例：绘制正方形\n",
    "import turtle\n",
    "turtle.pensize(5)\n",
    "for i in range(4):\n",
    "    turtle.right(90)\n",
    "    turtle.fd(50)\n",
    "turtle.done()"
   ]
  },
  {
   "cell_type": "code",
   "execution_count": 36,
   "id": "8849ccec",
   "metadata": {},
   "outputs": [],
   "source": [
    "# 操作实例：绘制正六边形\n",
    "import turtle\n",
    "turtle.pensize(5)\n",
    "turtle.left(120)\n",
    "turtle.fd(50)\n",
    "for i in range(5):\n",
    "    turtle.right(60)\n",
    "    turtle.fd(50)\n",
    "turtle.done()"
   ]
  },
  {
   "cell_type": "code",
   "execution_count": 48,
   "id": "10aa43d9",
   "metadata": {},
   "outputs": [],
   "source": [
    "# 操作实例：绘制100°叠边形\n",
    "import turtle\n",
    "turtle.pensize(5)\n",
    "turtle.seth(100)\n",
    "for i in range(9):\n",
    "    turtle.fd(100)\n",
    "    turtle.right(80)\n",
    "turtle.done()"
   ]
  },
  {
   "cell_type": "code",
   "execution_count": 64,
   "id": "d19c2dec",
   "metadata": {},
   "outputs": [],
   "source": [
    "# 操作实例：绘制风车，每个风轮内角为45度，风轮边长150像素。‪‬‪‬‪‬‪‬‪‬‮‬‫‬‫‬‪‬‪‬‪‬‪‬‪‬‮‬‭‬‪‬\n",
    "import turtle\n",
    "turtle.pensize(5)\n",
    "turtle.pencolor(\"purple\")\n",
    "for i in range(4):\n",
    "    turtle.seth(90 * i)\n",
    "    turtle.fd(150)\n",
    "    turtle.right(90)\n",
    "    turtle.circle(-150,45)\n",
    "    turtle.goto(0,0)\n",
    "turtle.done()"
   ]
  }
 ],
 "metadata": {
  "kernelspec": {
   "display_name": "Python 3",
   "language": "python",
   "name": "python3"
  },
  "language_info": {
   "codemirror_mode": {
    "name": "ipython",
    "version": 3
   },
   "file_extension": ".py",
   "mimetype": "text/x-python",
   "name": "python",
   "nbconvert_exporter": "python",
   "pygments_lexer": "ipython3",
   "version": "3.8.8"
  }
 },
 "nbformat": 4,
 "nbformat_minor": 5
}
