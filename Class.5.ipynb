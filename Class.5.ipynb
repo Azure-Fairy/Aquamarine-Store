{
 "cells": [
  {
   "cell_type": "code",
   "execution_count": 2,
   "id": "1453fffb",
   "metadata": {},
   "outputs": [
    {
     "name": "stdout",
     "output_type": "stream",
     "text": [
      "Hello,I'm Zhang San.\n",
      "Hello,I'm Li Si.\n"
     ]
    }
   ],
   "source": [
    "class Person:\n",
    "        \n",
    "    def set_name(self,name):\n",
    "        self.name = name\n",
    "        \n",
    "    def get_name(self):\n",
    "        return self.name\n",
    "    \n",
    "    def greet(self):\n",
    "        print(f\"Hello,I'm {self.name}.\")\n",
    "        \n",
    "zs = Person()\n",
    "zs.set_name('Zhang San')\n",
    "zs.greet()\n",
    "\n",
    "ls = Person()\n",
    "ls.set_name('Li Si')\n",
    "ls.greet()"
   ]
  },
  {
   "cell_type": "code",
   "execution_count": 3,
   "id": "29db5056",
   "metadata": {},
   "outputs": [
    {
     "name": "stdout",
     "output_type": "stream",
     "text": [
      "Hello,I'm Zhang San.\n"
     ]
    }
   ],
   "source": [
    "class Person:\n",
    "    def __init__(self,name):  #初始化时直接存储内容\n",
    "        self.name = name\n",
    "        \n",
    "    def set_name(self,name):\n",
    "        self.name = name\n",
    "        \n",
    "    def get_name(self):\n",
    "        return self.name\n",
    "    \n",
    "    def greet(self):\n",
    "        print(f\"Hello,I'm {self.name}.\")\n",
    "        \n",
    "zs = Person('Zhang San')\n",
    "zs.name = 1\n",
    "zs.greet()"
   ]
  },
  {
   "cell_type": "code",
   "execution_count": 4,
   "id": "8f5c38f9",
   "metadata": {},
   "outputs": [
    {
     "name": "stdout",
     "output_type": "stream",
     "text": [
      "Hello,I'm 1.\n"
     ]
    }
   ],
   "source": [
    "class Person:\n",
    "    def __init__(self,name):  #初始化时直接存储内容\n",
    "        self.name = name\n",
    "        \n",
    "    def set_name(self,name):\n",
    "        self.name = name\n",
    "        \n",
    "    def get_name(self):\n",
    "        return self.name\n",
    "    \n",
    "    def greet(self):\n",
    "        print(f\"Hello,I'm {self.name}.\")\n",
    "        \n",
    "zs = Person('Zhang San')\n",
    "zs.name = 1  #可以进行直接访问和修改。\n",
    "zs.greet()"
   ]
  },
  {
   "cell_type": "code",
   "execution_count": 5,
   "id": "d9498232",
   "metadata": {},
   "outputs": [
    {
     "name": "stdout",
     "output_type": "stream",
     "text": [
      "Hello,I'm 1.\n"
     ]
    }
   ],
   "source": [
    "class Person:\n",
    "    def __init__(self,name):  \n",
    "        self._name = name\n",
    "        \n",
    "    def set_name(self,name):\n",
    "        self._name = name\n",
    "        \n",
    "    def get_name(self):\n",
    "        return self._name\n",
    "    \n",
    "    def greet(self):\n",
    "        print(f\"Hello,I'm {self._name}.\")\n",
    "        \n",
    "zs = Person('Zhang San')\n",
    "zs._name = 1  #不建议对下划线开头的变量进行直接访问和修改。\n",
    "zs.greet()"
   ]
  },
  {
   "cell_type": "code",
   "execution_count": 9,
   "id": "5e820a08",
   "metadata": {},
   "outputs": [
    {
     "name": "stdout",
     "output_type": "stream",
     "text": [
      "Hello,I'm Zhang San.\n"
     ]
    }
   ],
   "source": [
    "class Person:\n",
    "    '''Class to represent a person.'''\n",
    "    def __init__(self,name):  \n",
    "        self.__name = name\n",
    "        '''Set the name of person'''\n",
    "    def set_name(self,name):\n",
    "        self.__name = name\n",
    "        '''Return the name of the person'''\n",
    "    def get_name(self):\n",
    "        return self.__name\n",
    "    '''Say Hello'''\n",
    "    def greet(self):\n",
    "        print(f\"Hello,I'm {self.__name}.\")\n",
    "        \n",
    "zs = Person('Zhang San')\n",
    "zs.__name = 1  #当开头为两个下划线时，内容自动设置为无法直接访问。\n",
    "zs.greet()"
   ]
  },
  {
   "cell_type": "code",
   "execution_count": 10,
   "id": "397a0c9c",
   "metadata": {},
   "outputs": [
    {
     "name": "stdout",
     "output_type": "stream",
     "text": [
      "Help on class Person in module __main__:\n",
      "\n",
      "class Person(builtins.object)\n",
      " |  Person(name)\n",
      " |  \n",
      " |  Class to represent a person.\n",
      " |  \n",
      " |  Methods defined here:\n",
      " |  \n",
      " |  __init__(self, name)\n",
      " |      Initialize self.  See help(type(self)) for accurate signature.\n",
      " |  \n",
      " |  get_name(self)\n",
      " |  \n",
      " |  greet(self)\n",
      " |  \n",
      " |  set_name(self, name)\n",
      " |  \n",
      " |  ----------------------------------------------------------------------\n",
      " |  Data descriptors defined here:\n",
      " |  \n",
      " |  __dict__\n",
      " |      dictionary for instance variables (if defined)\n",
      " |  \n",
      " |  __weakref__\n",
      " |      list of weak references to the object (if defined)\n",
      "\n"
     ]
    }
   ],
   "source": [
    "help(Person)"
   ]
  },
  {
   "cell_type": "code",
   "execution_count": 8,
   "id": "a6527e8d",
   "metadata": {},
   "outputs": [
    {
     "data": {
      "text/plain": [
       "True"
      ]
     },
     "execution_count": 8,
     "metadata": {},
     "output_type": "execute_result"
    }
   ],
   "source": [
    "isinstance(zs,Person) #调用查询是否有关zs的Person的数据变量"
   ]
  },
  {
   "cell_type": "code",
   "execution_count": 11,
   "id": "5f09d144",
   "metadata": {},
   "outputs": [
    {
     "data": {
      "text/plain": [
       "{'_Person__name': 'Zhang San', '__name': 1}"
      ]
     },
     "execution_count": 11,
     "metadata": {},
     "output_type": "execute_result"
    }
   ],
   "source": [
    "zs.__dict__\n",
    "#dictionary for instance variables\n",
    "#当前置为__时，变量由Person__name自动改为_Person__name,进行保护"
   ]
  },
  {
   "cell_type": "code",
   "execution_count": 15,
   "id": "d4647eaa",
   "metadata": {},
   "outputs": [
    {
     "name": "stdout",
     "output_type": "stream",
     "text": [
      "Hello,I'm Nobody.\n",
      "Hello,I'm LS.\n",
      "Hello,I'm Nobody.\n"
     ]
    }
   ],
   "source": [
    "class Person:\n",
    "    '''Class to represent a person.'''\n",
    "    def __init__(self,name):  \n",
    "        self.set_name(name)\n",
    "        '''Set the name of person'''\n",
    "    def set_name(self,name):\n",
    "        if isinstance(name,str):\n",
    "            self.name = name\n",
    "        else:\n",
    "            self.name = 'Nobody'\n",
    "        '''Return the name of the person'''\n",
    "    def get_name(self):\n",
    "        return self.name\n",
    "    '''Say Hello'''\n",
    "    def greet(self):\n",
    "        print(f\"Hello,I'm {self.name}.\")\n",
    "\n",
    "###判定是否可以进一步进行\n",
    "\n",
    "zs = Person(1)\n",
    "zs.greet()\n",
    "ls = Person('LS')\n",
    "ls.greet()\n",
    "ww = Person('Wang Wu')\n",
    "ww.set_name(1)\n",
    "ww.greet()"
   ]
  },
  {
   "cell_type": "code",
   "execution_count": 17,
   "id": "df0a1b58",
   "metadata": {},
   "outputs": [],
   "source": [
    "#type hint 提示是否是字符串\n",
    "\n",
    "class Person:\n",
    "    '''Class to represent a person.'''\n",
    "    def __init__(self,name:str):  \n",
    "        self.set_name(name)\n",
    "        '''Set the name of person'''\n",
    "    def set_name(self,name:str):\n",
    "        if isinstance(name,str):\n",
    "            self.name = name\n",
    "        else:\n",
    "            self.name = 'Nobody'\n",
    "        '''Return the name of the person'''\n",
    "    def get_name(self)->str:\n",
    "        return self.name\n",
    "    '''Say Hello'''\n",
    "    def greet(self):\n",
    "        print(f\"Hello,I'm {self.name}.\")"
   ]
  },
  {
   "cell_type": "code",
   "execution_count": 18,
   "id": "5a81e4ba",
   "metadata": {},
   "outputs": [
    {
     "name": "stdout",
     "output_type": "stream",
     "text": [
      "1\n",
      "2\n"
     ]
    }
   ],
   "source": [
    "print('Hello,world'.count('e'))  #对类的调用（此处为Str）\n",
    "print([1,2,'e','e',4].count('e')) #在字符串中和list中count函数作用有细微差别，这种有多种情况多种功能的被称为多态"
   ]
  },
  {
   "cell_type": "code",
   "execution_count": 20,
   "id": "21aa33d3",
   "metadata": {},
   "outputs": [
    {
     "name": "stdout",
     "output_type": "stream",
     "text": [
      "[1, 2, 'e', 'e', 4]\n",
      "2\n"
     ]
    }
   ],
   "source": [
    "from random import choice\n",
    "x = choice(['hello,world!',[1,2,'e','e',4]])\n",
    "print(x)\n",
    "print(x.count('e'))\n",
    "\n",
    "#调用随机包，count函数随机从左侧字符串和右侧list进行调用，此时因多态产生不一样的结果。"
   ]
  },
  {
   "cell_type": "code",
   "execution_count": 21,
   "id": "896d9a66",
   "metadata": {},
   "outputs": [
    {
     "name": "stdout",
     "output_type": "stream",
     "text": [
      "hello,world!\n",
      "1\n"
     ]
    }
   ],
   "source": [
    "from random import choice\n",
    "x = choice(['hello,world!',[1,2,'e','e',4]])\n",
    "print(x)\n",
    "print(x.count('e'))"
   ]
  },
  {
   "cell_type": "code",
   "execution_count": 27,
   "id": "6191aafd",
   "metadata": {},
   "outputs": [
    {
     "name": "stdout",
     "output_type": "stream",
     "text": [
      "meow...\n",
      "wang...\n",
      "wang...\n"
     ]
    }
   ],
   "source": [
    "class Cat:\n",
    "    def meow(self):\n",
    "        print('meow...')\n",
    "        \n",
    "class Dog:\n",
    "    def bark(self):\n",
    "        print('wang...')\n",
    "        \n",
    "pets = []\n",
    "pets.append(Cat())\n",
    "pets.append(Dog())\n",
    "pets.append(Dog())\n",
    "\n",
    "for pet in pets:\n",
    "    if isinstance(pet,Cat):\n",
    "        pet.meow()\n",
    "    elif isinstance(pet,Dog):\n",
    "        pet.bark()\n",
    "    else:\n",
    "        pass"
   ]
  },
  {
   "cell_type": "code",
   "execution_count": 26,
   "id": "5e573416",
   "metadata": {},
   "outputs": [
    {
     "name": "stdout",
     "output_type": "stream",
     "text": [
      "meow...\n",
      "wang...\n",
      "wang...\n"
     ]
    }
   ],
   "source": [
    "class Cat:\n",
    "    def talk(self):\n",
    "        print('meow...')\n",
    "        \n",
    "class Dog:\n",
    "    def talk(self):\n",
    "        print('wang...')\n",
    "        \n",
    "pets = []\n",
    "pets.append(Cat())\n",
    "pets.append(Dog())\n",
    "pets.append(Dog())\n",
    "\n",
    "for pet in pets:\n",
    "    pet.talk()\n",
    "    \n",
    "#Duck-typing"
   ]
  },
  {
   "cell_type": "code",
   "execution_count": 29,
   "id": "73db702d",
   "metadata": {},
   "outputs": [
    {
     "name": "stdout",
     "output_type": "stream",
     "text": [
      "Hello,I'm Zhang San.\n",
      "100\n"
     ]
    }
   ],
   "source": [
    "#继承关系,Inheritance。\n",
    "#如果一个类A包括了另一个类B所有的属性和方法，那么就说A继承了B。\n",
    "class Person:\n",
    "    def __init__(self,name):  \n",
    "        self._name = name\n",
    "    def set_name(self,name):\n",
    "        self._name = name\n",
    "    def get_name(self):\n",
    "        return self._name\n",
    "    def greet(self):\n",
    "        print(f\"Hello,I'm {self._name}.\")\n",
    "\n",
    "class Student(Person): #指定了Student为基类\n",
    "    def __init__(self,name):\n",
    "        self.score = 0\n",
    "    def set_score(self,score):\n",
    "        self.score = score\n",
    "    def get_score(self):\n",
    "        return self.score\n",
    "\n",
    "zs = Student('Zhang San')\n",
    "zs.set_score(100)\n",
    "zs.greet()\n",
    "print(zs.get_score())"
   ]
  },
  {
   "cell_type": "code",
   "execution_count": 31,
   "id": "7b92ccc6",
   "metadata": {},
   "outputs": [
    {
     "name": "stdout",
     "output_type": "stream",
     "text": [
      "Hello,I'm Zhang San.\n",
      "0\n"
     ]
    }
   ],
   "source": [
    "class Person:\n",
    "    def __init__(self,name):  \n",
    "        self._name = name\n",
    "    def set_name(self,name):\n",
    "        self._name = name\n",
    "    def get_name(self):\n",
    "        return self._name\n",
    "    def greet(self):\n",
    "        print(f\"Hello,I'm {self._name}.\")\n",
    "\n",
    "class Student(Person): #指定了Student为基类\n",
    "    def __init__(self,name):\n",
    "        super().__init__(name)  #以当前对象调用其基类Person的信息\n",
    "        self.score = 0\n",
    "    def set_score(self,score):\n",
    "        self.score = score\n",
    "    def get_score(self):\n",
    "        return self.score\n",
    "\n",
    "zs = Student('Zhang San')\n",
    "#zs.set_score(100)\n",
    "zs.greet()\n",
    "print(zs.get_score())"
   ]
  },
  {
   "cell_type": "code",
   "execution_count": 38,
   "id": "be99bed1",
   "metadata": {},
   "outputs": [
    {
     "name": "stdout",
     "output_type": "stream",
     "text": [
      "[1, 2, 3, 'Hello']\n"
     ]
    }
   ],
   "source": [
    "#屏蔽词过滤器\n",
    "class Filter:\n",
    "    def __init__(self):\n",
    "        self.blocked = []\n",
    "        \n",
    "    def filter(self,sequence):\n",
    "        return [x for x in sequence if x not in self.blocked]\n",
    "    \n",
    "    \n",
    "class SPAMFilter(Filter):\n",
    "    def __init__(self):\n",
    "        self.blocked = ['SPAM']\n",
    "        \n",
    "f = Filter()\n",
    "f.filter([1,2,3])\n",
    "\n",
    "s = SPAMFilter()\n",
    "print(s.filter(['SPAM','SPAM',1,2,3,'Hello',\"SPAM\"]))"
   ]
  },
  {
   "cell_type": "code",
   "execution_count": 47,
   "id": "18e9dfdc",
   "metadata": {},
   "outputs": [
    {
     "data": {
      "text/plain": [
       "[1, 2, 'Hello']"
      ]
     },
     "execution_count": 47,
     "metadata": {},
     "output_type": "execute_result"
    }
   ],
   "source": [
    "#屏蔽词过滤器\n",
    "class Filter:\n",
    "    def __init__(self):\n",
    "        self.blocked = []\n",
    "    \n",
    "    def add_blocked_items(self,*items): #星号设置为元祖，可以设置多个屏蔽值\n",
    "        self.blocked.extend(items)\n",
    "    \n",
    "    def filter(self,sequence):\n",
    "        return [x for x in sequence if x not in self.blocked]\n",
    "        \n",
    "spam_filter = Filter()\n",
    "spam_filter.add_blocked_items('SPAM',3)\n",
    "spam_filter.filter(['SPAM','SPAM',1,2,3,'Hello',\"SPAM\"])"
   ]
  },
  {
   "cell_type": "code",
   "execution_count": 48,
   "id": "9e52628b",
   "metadata": {},
   "outputs": [
    {
     "name": "stdout",
     "output_type": "stream",
     "text": [
      "The answer is:7\n"
     ]
    }
   ],
   "source": [
    "class Calculator:\n",
    "    def calculate(self,expression):\n",
    "        self.value = eval(expression)\n",
    "\n",
    "class Talker:\n",
    "    def talk(self):\n",
    "        print(f'The answer is:{self.value}')\n",
    "        \n",
    "class TalkingCalculator(Calculator,Talker):\n",
    "    pass\n",
    "\n",
    "tc = TalkingCalculator()\n",
    "tc.calculate('1+2*3')\n",
    "tc.talk()"
   ]
  },
  {
   "cell_type": "code",
   "execution_count": 49,
   "id": "f712d0eb",
   "metadata": {},
   "outputs": [
    {
     "ename": "AttributeError",
     "evalue": "'TalkingCalculator' object has no attribute 'calculaotr'",
     "output_type": "error",
     "traceback": [
      "\u001b[1;31m---------------------------------------------------------------------------\u001b[0m",
      "\u001b[1;31mAttributeError\u001b[0m                            Traceback (most recent call last)",
      "\u001b[1;32m<ipython-input-49-e312e77147e2>\u001b[0m in \u001b[0;36m<module>\u001b[1;34m\u001b[0m\n\u001b[0;32m     16\u001b[0m \u001b[1;33m\u001b[0m\u001b[0m\n\u001b[0;32m     17\u001b[0m \u001b[0mtc\u001b[0m \u001b[1;33m=\u001b[0m \u001b[0mTalkingCalculator\u001b[0m\u001b[1;33m(\u001b[0m\u001b[1;33m)\u001b[0m\u001b[1;33m\u001b[0m\u001b[1;33m\u001b[0m\u001b[0m\n\u001b[1;32m---> 18\u001b[1;33m \u001b[0mtc\u001b[0m\u001b[1;33m.\u001b[0m\u001b[0mcalculaotr\u001b[0m\u001b[1;33m(\u001b[0m\u001b[1;34m'1+2*3'\u001b[0m\u001b[1;33m)\u001b[0m\u001b[1;33m\u001b[0m\u001b[1;33m\u001b[0m\u001b[0m\n\u001b[0m\u001b[0;32m     19\u001b[0m \u001b[0mtc\u001b[0m\u001b[1;33m.\u001b[0m\u001b[0mtalk\u001b[0m\u001b[1;33m(\u001b[0m\u001b[1;33m)\u001b[0m\u001b[1;33m\u001b[0m\u001b[1;33m\u001b[0m\u001b[0m\n",
      "\u001b[1;31mAttributeError\u001b[0m: 'TalkingCalculator' object has no attribute 'calculaotr'"
     ]
    }
   ],
   "source": [
    "class Calculator:\n",
    "    def calculate(self,expression):\n",
    "        self.value = eval(expression)\n",
    "        \n",
    "class Talker:\n",
    "    def talk(self,value):\n",
    "        print(f'The answer is:{value}')\n",
    "        \n",
    "class TalkingCalculator(Calculator):\n",
    "    def __init__(self):\n",
    "        self.__talker = Talker()\n",
    "        self.value = None\n",
    "        \n",
    "    def talk(self):\n",
    "        self.__talker.talk(self.__value)\n",
    "        \n",
    "tc = TalkingCalculator()\n",
    "tc.calculaotr('1+2*3')\n",
    "tc.talk()"
   ]
  },
  {
   "cell_type": "code",
   "execution_count": 55,
   "id": "a4635865",
   "metadata": {},
   "outputs": [
    {
     "name": "stdout",
     "output_type": "stream",
     "text": [
      "10 Screwing---\n"
     ]
    }
   ],
   "source": [
    "class Knife:\n",
    "    def work(self):\n",
    "        print('Cutting---')\n",
    "        \n",
    "class ScrewDriver:\n",
    "    def __init__(self,size):\n",
    "        self.size = size\n",
    "\n",
    "    def work(self):\n",
    "        print(f'{self.size} Screwing---')\n",
    "        \n",
    "class SwissKnife(Knife,ScrewDriver):\n",
    "    def __init__(self):\n",
    "        self.tools = {}\n",
    "\n",
    "    def add_tool(self,name,tool):\n",
    "        self.tools[name] = tool\n",
    "    \n",
    "sk = SwissKnife()\n",
    "sk.add_tool('Big screw',ScrewDriver(10))\n",
    "sk.add_tool('Small screw',ScrewDriver(5))\n",
    "sk.add_tool('Knife',Knife())\n",
    "\n",
    "sk.tools['Big screw'].work()"
   ]
  },
  {
   "cell_type": "code",
   "execution_count": 54,
   "id": "8023e3aa",
   "metadata": {},
   "outputs": [
    {
     "name": "stdout",
     "output_type": "stream",
     "text": [
      "Cutting---\n",
      "5 Screwing---\n"
     ]
    }
   ],
   "source": [
    "class Knife:\n",
    "    def work(self):\n",
    "        print('Cutting---')\n",
    "        \n",
    "class ScrewDriver:\n",
    "    def __init__(self,size):\n",
    "        self.size = size\n",
    "\n",
    "    def work(self):\n",
    "        print(f'{self.size} Screwing---')\n",
    "        \n",
    "class SwissKnife(Knife,ScrewDriver):\n",
    "    def __init__(self):\n",
    "        self.tools = {}\n",
    "\n",
    "    def add_tool(self,name,tool):\n",
    "        self.tools[name] = tool\n",
    "    \n",
    "    def use_tool(self,name):\n",
    "        self.tools[name].work()\n",
    "    \n",
    "sk = SwissKnife()\n",
    "sk.add_tool('Big screw',ScrewDriver(10))\n",
    "sk.add_tool('Small screw',ScrewDriver(5))\n",
    "sk.add_tool('Knife',Knife())\n",
    "\n",
    "sk.use_tool('Knife')\n",
    "sk.use_tool('Small screw')"
   ]
  }
 ],
 "metadata": {
  "kernelspec": {
   "display_name": "Python 3",
   "language": "python",
   "name": "python3"
  },
  "language_info": {
   "codemirror_mode": {
    "name": "ipython",
    "version": 3
   },
   "file_extension": ".py",
   "mimetype": "text/x-python",
   "name": "python",
   "nbconvert_exporter": "python",
   "pygments_lexer": "ipython3",
   "version": "3.8.8"
  }
 },
 "nbformat": 4,
 "nbformat_minor": 5
}
