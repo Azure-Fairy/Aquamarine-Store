{
 "cells": [
  {
   "cell_type": "code",
   "execution_count": 9,
   "id": "53b6b618",
   "metadata": {},
   "outputs": [
    {
     "name": "stdout",
     "output_type": "stream",
     "text": [
      "input your name:name2\n",
      "95\n"
     ]
    }
   ],
   "source": [
    "names=['name1','name2','name3']   #方法，分别设定对应内容，搜索所输入名字获取所在位置，从scores组中返回对应位置所在的值\n",
    "scores=[90,95,88]\n",
    "\n",
    "name=input('input your name:')\n",
    "print(scores[names.index(name)])"
   ]
  },
  {
   "cell_type": "code",
   "execution_count": 14,
   "id": "55a119e9",
   "metadata": {},
   "outputs": [
    {
     "name": "stdout",
     "output_type": "stream",
     "text": [
      "Your name:name2\n",
      "95\n"
     ]
    }
   ],
   "source": [
    "scores=[['name1',90],['name2',95],['name3',88]]  #方法同上，更直观\n",
    "name = input('Your name:')\n",
    "for item in scores:\n",
    "    if item[0] == name:\n",
    "       print(item[1])"
   ]
  },
  {
   "cell_type": "code",
   "execution_count": 18,
   "id": "fa25450e",
   "metadata": {},
   "outputs": [
    {
     "data": {
      "text/plain": [
       "{'name': 90, 'name2': 95, 'name3': 88}"
      ]
     },
     "execution_count": 18,
     "metadata": {},
     "output_type": "execute_result"
    }
   ],
   "source": [
    "scores_d = {'name':90,'name2':95,'name3':88}  #建立字典，每个字典一个数值\n",
    "scores_d"
   ]
  },
  {
   "cell_type": "code",
   "execution_count": 15,
   "id": "794680df",
   "metadata": {},
   "outputs": [
    {
     "name": "stdout",
     "output_type": "stream",
     "text": [
      "Name:name2\n",
      "95\n"
     ]
    }
   ],
   "source": [
    "name = input('Name:')\n",
    "print(scores_d[name])    #找寻对应数值"
   ]
  },
  {
   "cell_type": "code",
   "execution_count": 23,
   "id": "88e90d27",
   "metadata": {},
   "outputs": [
    {
     "data": {
      "text/plain": [
       "{'name': 90, 'name2': 95, 'name3': 88, 'name4': 60}"
      ]
     },
     "execution_count": 23,
     "metadata": {},
     "output_type": "execute_result"
    }
   ],
   "source": [
    "scores_d['name4']=60  #新增加内容（注意，字典排序固定，无法指定加入内容所在位置\n",
    "scores_d"
   ]
  },
  {
   "cell_type": "code",
   "execution_count": 19,
   "id": "045f51a7",
   "metadata": {},
   "outputs": [
    {
     "ename": "KeyError",
     "evalue": "'test'",
     "output_type": "error",
     "traceback": [
      "\u001b[1;31m---------------------------------------------------------------------------\u001b[0m",
      "\u001b[1;31mKeyError\u001b[0m                                  Traceback (most recent call last)",
      "\u001b[1;32m<ipython-input-19-523e10a4ea6d>\u001b[0m in \u001b[0;36m<module>\u001b[1;34m\u001b[0m\n\u001b[1;32m----> 1\u001b[1;33m \u001b[0mscores_d\u001b[0m\u001b[1;33m[\u001b[0m\u001b[1;34m'test'\u001b[0m\u001b[1;33m]\u001b[0m\u001b[1;33m\u001b[0m\u001b[1;33m\u001b[0m\u001b[0m\n\u001b[0m",
      "\u001b[1;31mKeyError\u001b[0m: 'test'"
     ]
    }
   ],
   "source": [
    "scores_d['test']"
   ]
  },
  {
   "cell_type": "code",
   "execution_count": 21,
   "id": "9526aa1c",
   "metadata": {},
   "outputs": [
    {
     "data": {
      "text/plain": [
       "False"
      ]
     },
     "execution_count": 21,
     "metadata": {},
     "output_type": "execute_result"
    }
   ],
   "source": [
    "'test' in scores_d #key值搜索"
   ]
  },
  {
   "cell_type": "code",
   "execution_count": 24,
   "id": "f715c9a2",
   "metadata": {},
   "outputs": [
    {
     "data": {
      "text/plain": [
       "True"
      ]
     },
     "execution_count": 24,
     "metadata": {},
     "output_type": "execute_result"
    }
   ],
   "source": [
    "'name' in scores_d"
   ]
  },
  {
   "cell_type": "code",
   "execution_count": 25,
   "id": "062525a5",
   "metadata": {},
   "outputs": [
    {
     "data": {
      "text/plain": [
       "[['name1', 90], ['name2', 95], ['name3', 88]]"
      ]
     },
     "execution_count": 25,
     "metadata": {},
     "output_type": "execute_result"
    }
   ],
   "source": [
    "scores"
   ]
  },
  {
   "cell_type": "code",
   "execution_count": 26,
   "id": "d58c080a",
   "metadata": {},
   "outputs": [
    {
     "data": {
      "text/plain": [
       "{'name1': 90, 'name2': 95, 'name3': 88}"
      ]
     },
     "execution_count": 26,
     "metadata": {},
     "output_type": "execute_result"
    }
   ],
   "source": [
    "d = dict(scores)  #建立一个空的list，并且导入另一个list的值\n",
    "d"
   ]
  },
  {
   "cell_type": "code",
   "execution_count": 27,
   "id": "3a21db5b",
   "metadata": {},
   "outputs": [
    {
     "data": {
      "text/plain": [
       "{}"
      ]
     },
     "execution_count": 27,
     "metadata": {},
     "output_type": "execute_result"
    }
   ],
   "source": [
    "k = dict() #建立一个空的list\n",
    "k"
   ]
  },
  {
   "cell_type": "code",
   "execution_count": 28,
   "id": "d1e6710d",
   "metadata": {},
   "outputs": [
    {
     "data": {
      "text/plain": [
       "{'names': None, 'age': None}"
      ]
     },
     "execution_count": 28,
     "metadata": {},
     "output_type": "execute_result"
    }
   ],
   "source": [
    "k1 = {}.fromkeys(['names','age'])  #list中进行加入新内容，无赋值为None\n",
    "k1"
   ]
  },
  {
   "cell_type": "code",
   "execution_count": 31,
   "id": "1670c10b",
   "metadata": {},
   "outputs": [
    {
     "data": {
      "text/plain": [
       "{'a': 0, 'e': 0, 'i': 0, 'o': 0, 'u': 0}"
      ]
     },
     "execution_count": 31,
     "metadata": {},
     "output_type": "execute_result"
    }
   ],
   "source": [
    "str = 'Hello,this is a test.'  #加入时，每个内容可以分别加入\n",
    "count = {}.fromkeys('aeiou',0)\n",
    "count"
   ]
  },
  {
   "cell_type": "code",
   "execution_count": 33,
   "id": "c306fce2",
   "metadata": {},
   "outputs": [
    {
     "ename": "KeyError",
     "evalue": "'H'",
     "output_type": "error",
     "traceback": [
      "\u001b[1;31m---------------------------------------------------------------------------\u001b[0m",
      "\u001b[1;31mKeyError\u001b[0m                                  Traceback (most recent call last)",
      "\u001b[1;32m<ipython-input-33-743c8e41bff2>\u001b[0m in \u001b[0;36m<module>\u001b[1;34m\u001b[0m\n\u001b[0;32m      1\u001b[0m \u001b[1;32mfor\u001b[0m \u001b[0mch\u001b[0m \u001b[1;32min\u001b[0m \u001b[0mstr\u001b[0m\u001b[1;33m:\u001b[0m\u001b[1;33m\u001b[0m\u001b[1;33m\u001b[0m\u001b[0m\n\u001b[1;32m----> 2\u001b[1;33m     \u001b[0mcount\u001b[0m\u001b[1;33m[\u001b[0m\u001b[0mch\u001b[0m\u001b[1;33m]\u001b[0m \u001b[1;33m+=\u001b[0m \u001b[1;36m1\u001b[0m\u001b[1;33m\u001b[0m\u001b[1;33m\u001b[0m\u001b[0m\n\u001b[0m\u001b[0;32m      3\u001b[0m \u001b[1;33m\u001b[0m\u001b[0m\n\u001b[0;32m      4\u001b[0m \u001b[0mprint\u001b[0m\u001b[1;33m(\u001b[0m\u001b[0mcount\u001b[0m\u001b[1;33m)\u001b[0m   \u001b[1;31m#报错，因为并不是所有的字母都在list中，因此无法完全返回数值。\u001b[0m\u001b[1;33m\u001b[0m\u001b[1;33m\u001b[0m\u001b[0m\n",
      "\u001b[1;31mKeyError\u001b[0m: 'H'"
     ]
    }
   ],
   "source": [
    "for ch in str:  #统计每个字符所存在的数量\n",
    "    count[ch] += 1    #若字符存在list当中，则list中对应的数值+1\n",
    "    \n",
    "print(count)   #报错，因为并不是所有的字母都在list中，因此无法完全返回数值。"
   ]
  },
  {
   "cell_type": "code",
   "execution_count": 35,
   "id": "3d28e808",
   "metadata": {},
   "outputs": [
    {
     "name": "stdout",
     "output_type": "stream",
     "text": [
      "{'a': 2, 'e': 4, 'i': 4, 'o': 2, 'u': 0}\n"
     ]
    }
   ],
   "source": [
    "for ch in str:\n",
    "    if ch in count:\n",
    "        count[ch] += 1\n",
    "    \n",
    "print(count)"
   ]
  },
  {
   "cell_type": "code",
   "execution_count": 36,
   "id": "e7682b91",
   "metadata": {},
   "outputs": [
    {
     "name": "stdout",
     "output_type": "stream",
     "text": [
      "None\n"
     ]
    }
   ],
   "source": [
    "print(count.get('h'))   #获取其中的h的内容和数量"
   ]
  },
  {
   "cell_type": "code",
   "execution_count": 39,
   "id": "9405e308",
   "metadata": {},
   "outputs": [
    {
     "name": "stdout",
     "output_type": "stream",
     "text": [
      "-100\n"
     ]
    }
   ],
   "source": [
    "print(count.get('h',-100))  #设定获取h并且搜索不到时，返回一个特定的缺省值-100"
   ]
  },
  {
   "cell_type": "code",
   "execution_count": 1,
   "id": "ab69bd7e",
   "metadata": {},
   "outputs": [
    {
     "name": "stdout",
     "output_type": "stream",
     "text": [
      "Input a name:Zhang San\n",
      "Input a score:100\n",
      "Name:Zhang San,Score:100\n"
     ]
    }
   ],
   "source": [
    "student = dict.fromkeys('name','score')  #建立一个数据表并且输入数据\n",
    "student['name'] = input('Input a name:')\n",
    "student['score'] = int(input('Input a score:'))\n",
    "\n",
    "print(f\"Name:{student['name']},Score:{student['score']}\")"
   ]
  },
  {
   "cell_type": "code",
   "execution_count": 2,
   "id": "923eb689",
   "metadata": {},
   "outputs": [
    {
     "name": "stdout",
     "output_type": "stream",
     "text": [
      "Input a name:Li Si\n",
      "Input a score:60\n",
      "Name:Li Si,Score:60\n"
     ]
    }
   ],
   "source": [
    "student = ['',0]   #建立一个数据表并且输入数据，另一种方法\n",
    "student[0] = input('Input a name:')\n",
    "student[1] = int(input('Input a score:'))\n",
    "\n",
    "print(f\"Name:{student[0]},Score:{student[1]}\")"
   ]
  },
  {
   "cell_type": "code",
   "execution_count": 5,
   "id": "8e2efacc",
   "metadata": {},
   "outputs": [
    {
     "name": "stdout",
     "output_type": "stream",
     "text": [
      "Input ID:51211300100\n",
      "Input name:Sheng Maozheng\n",
      "Input physics scores:100\n",
      "Input math scores:100\n",
      "Input python scores:90\n",
      "Input ID:51211300099\n",
      "Input name:Zhang Xin\n",
      "Input physics scores:86\n",
      "Input math scores:67\n",
      "Input python scores:88\n",
      "{'51211300100': {'name': 'Sheng Maozheng', 'physics': 100, 'math': 100, 'python': 90}, '51211300099': {'name': 'Zhang Xin', 'physics': 86, 'math': 67, 'python': 88}}\n"
     ]
    }
   ],
   "source": [
    "#设置scores ={'ID':{'name':'','physics':0,'math':0,'python':0}}\n",
    "#scores['Zhang San']['physics']\n",
    "\n",
    "scores={}\n",
    "for i in range(0,2):\n",
    "    ID = input('Input ID:')\n",
    "    name = input('Input name:')\n",
    "    physics = int(input('Input physics scores:'))\n",
    "    math = int(input('Input math scores:'))\n",
    "    python = int(input('Input python scores:'))\n",
    "    scores[ID] = {'name': name,'physics': physics,'math': math,'python': python}\n",
    "    \n",
    "print(scores)"
   ]
  },
  {
   "cell_type": "code",
   "execution_count": 11,
   "id": "bd4b9fc0",
   "metadata": {},
   "outputs": [],
   "source": [
    "import json\n",
    "\n",
    "with open('scores_db.json','w') as f:    #将文件以scores_db.json为名保存\n",
    "    json.dump(scores,f) #加入内容为scores"
   ]
  },
  {
   "cell_type": "code",
   "execution_count": 13,
   "id": "e97a6f8a",
   "metadata": {},
   "outputs": [
    {
     "data": {
      "text/plain": [
       "{'51211300100': {'name': 'Sheng Maozheng',\n",
       "  'physics': 100,\n",
       "  'math': 100,\n",
       "  'python': 90},\n",
       " '51211300099': {'name': 'Zhang Xin', 'physics': 86, 'math': 67, 'python': 88}}"
      ]
     },
     "execution_count": 13,
     "metadata": {},
     "output_type": "execute_result"
    }
   ],
   "source": [
    "with open('scores_db.json',) as f: #读取文件scores_db.json并将其中的数据导入至new_scores\n",
    "    new_scores = json.load(f)\n",
    "new_scores"
   ]
  },
  {
   "cell_type": "code",
   "execution_count": null,
   "id": "41b66fb5",
   "metadata": {},
   "outputs": [],
   "source": [
    "scores={}  #随机生成成绩\n",
    "for i in range(0,1):\n",
    "    ID = input('Input ID:')\n",
    "    name = input('Input name:')\n",
    "    physics = get_random_score() #int(input('Input physics scores:'))\n",
    "    maths = get_random_score() #int(input('Input math scores:'))\n",
    "    python = get_random_score() #int(input('Input python scores:'))\n",
    "    scores[ID] = {'name': name,'physics': physics,'math': math,'python': python}\n",
    "    \n",
    "print(scores)"
   ]
  },
  {
   "cell_type": "code",
   "execution_count": 27,
   "id": "13715a57",
   "metadata": {},
   "outputs": [
    {
     "name": "stdout",
     "output_type": "stream",
     "text": [
      "91 52 100 92 100 100 100 83 50 54 92 72 100 59 50 68 67 64 99 73 100 51 52 95 88 100 76 100 76 100 84 79 69 90 82 96 100 55 32 56 81 79 72 86 74 80 62 80 75 69 100 81 52 92 40 74 64 52 75 100 68 64 100 94 64 73 93 100 45 58 100 55 67 92 87 54 71 72 68 77 100 84 63 67 97 48 75 69 79 37 45 73 96 71 74 94 26 60 59 86 "
     ]
    }
   ],
   "source": [
    "import random   \n",
    "import math\n",
    "\n",
    "def get_random_score():    #随机生成一堆数，中位数为75\n",
    "    score =  math.ceil(random.gauss(75,20))\n",
    "    if score > 100: score = 100\n",
    "    if score < 0: score = 0\n",
    "    return score\n",
    "\n",
    "for i in range(0,100):\n",
    "    print(get_random_score(),end=' ')"
   ]
  },
  {
   "cell_type": "code",
   "execution_count": 30,
   "id": "7bfeb582",
   "metadata": {},
   "outputs": [
    {
     "data": {
      "text/plain": [
       "['San Zhao',\n",
       " 'San Qian',\n",
       " 'San Sun',\n",
       " 'San Li',\n",
       " 'San Zhou',\n",
       " 'San Wu',\n",
       " 'San Zheng',\n",
       " 'San Wang',\n",
       " 'San Feng',\n",
       " 'San Cheng',\n",
       " 'San Chu',\n",
       " 'Si Zhao',\n",
       " 'Si Qian',\n",
       " 'Si Sun',\n",
       " 'Si Li',\n",
       " 'Si Zhou',\n",
       " 'Si Wu',\n",
       " 'Si Zheng',\n",
       " 'Si Wang',\n",
       " 'Si Feng',\n",
       " 'Si Cheng',\n",
       " 'Si Chu',\n",
       " 'Wu Zhao',\n",
       " 'Wu Qian',\n",
       " 'Wu Sun',\n",
       " 'Wu Li',\n",
       " 'Wu Zhou',\n",
       " 'Wu Wu',\n",
       " 'Wu Zheng',\n",
       " 'Wu Wang',\n",
       " 'Wu Feng',\n",
       " 'Wu Cheng',\n",
       " 'Wu Chu',\n",
       " 'Liu Zhao',\n",
       " 'Liu Qian',\n",
       " 'Liu Sun',\n",
       " 'Liu Li',\n",
       " 'Liu Zhou',\n",
       " 'Liu Wu',\n",
       " 'Liu Zheng',\n",
       " 'Liu Wang',\n",
       " 'Liu Feng',\n",
       " 'Liu Cheng',\n",
       " 'Liu Chu',\n",
       " 'Jia Zhao',\n",
       " 'Jia Qian',\n",
       " 'Jia Sun',\n",
       " 'Jia Li',\n",
       " 'Jia Zhou',\n",
       " 'Jia Wu',\n",
       " 'Jia Zheng',\n",
       " 'Jia Wang',\n",
       " 'Jia Feng',\n",
       " 'Jia Cheng',\n",
       " 'Jia Chu',\n",
       " 'Yi Zhao',\n",
       " 'Yi Qian',\n",
       " 'Yi Sun',\n",
       " 'Yi Li',\n",
       " 'Yi Zhou',\n",
       " 'Yi Wu',\n",
       " 'Yi Zheng',\n",
       " 'Yi Wang',\n",
       " 'Yi Feng',\n",
       " 'Yi Cheng',\n",
       " 'Yi Chu',\n",
       " 'Bing Zhao',\n",
       " 'Bing Qian',\n",
       " 'Bing Sun',\n",
       " 'Bing Li',\n",
       " 'Bing Zhou',\n",
       " 'Bing Wu',\n",
       " 'Bing Zheng',\n",
       " 'Bing Wang',\n",
       " 'Bing Feng',\n",
       " 'Bing Cheng',\n",
       " 'Bing Chu',\n",
       " 'Ding Zhao',\n",
       " 'Ding Qian',\n",
       " 'Ding Sun',\n",
       " 'Ding Li',\n",
       " 'Ding Zhou',\n",
       " 'Ding Wu',\n",
       " 'Ding Zheng',\n",
       " 'Ding Wang',\n",
       " 'Ding Feng',\n",
       " 'Ding Cheng',\n",
       " 'Ding Chu']"
      ]
     },
     "execution_count": 30,
     "metadata": {},
     "output_type": "execute_result"
    }
   ],
   "source": [
    "first_names = ['San','Si','Wu','Liu','Jia','Yi','Bing','Ding',]\n",
    "last_names = ['Zhao','Qian','Sun','Li','Zhou','Wu','Zheng','Wang','Feng','Cheng','Chu']\n",
    "\n",
    "names = list() #利用list comprehension循环\n",
    "names=[first_name + ' ' + last_name for first_name in first_names for last_name in last_names]\n",
    "\n",
    "names"
   ]
  },
  {
   "cell_type": "code",
   "execution_count": 33,
   "id": "d9cc1900",
   "metadata": {},
   "outputs": [
    {
     "data": {
      "text/plain": [
       "88"
      ]
     },
     "execution_count": 33,
     "metadata": {},
     "output_type": "execute_result"
    }
   ],
   "source": [
    "len(names)  #搜寻名字数量"
   ]
  },
  {
   "cell_type": "code",
   "execution_count": 35,
   "id": "62d1656e",
   "metadata": {},
   "outputs": [
    {
     "name": "stdout",
     "output_type": "stream",
     "text": [
      "{20210: {'name': 'San Zhao', 'physics': 44, 'math': 66, 'python': 59}, 20211: {'name': 'San Qian', 'physics': 67, 'math': 67, 'python': 90}, 20212: {'name': 'San Sun', 'physics': 75, 'math': 37, 'python': 56}, 20213: {'name': 'San Li', 'physics': 96, 'math': 86, 'python': 78}, 20214: {'name': 'San Zhou', 'physics': 31, 'math': 100, 'python': 89}, 20215: {'name': 'San Wu', 'physics': 95, 'math': 100, 'python': 91}, 20216: {'name': 'San Zheng', 'physics': 86, 'math': 100, 'python': 47}, 20217: {'name': 'San Wang', 'physics': 84, 'math': 74, 'python': 57}, 20218: {'name': 'San Feng', 'physics': 99, 'math': 83, 'python': 80}, 20219: {'name': 'San Cheng', 'physics': 51, 'math': 69, 'python': 92}, 202110: {'name': 'San Chu', 'physics': 52, 'math': 66, 'python': 97}, 202111: {'name': 'Si Zhao', 'physics': 73, 'math': 36, 'python': 100}, 202112: {'name': 'Si Qian', 'physics': 74, 'math': 52, 'python': 96}, 202113: {'name': 'Si Sun', 'physics': 87, 'math': 63, 'python': 65}, 202114: {'name': 'Si Li', 'physics': 90, 'math': 68, 'python': 52}, 202115: {'name': 'Si Zhou', 'physics': 88, 'math': 100, 'python': 97}, 202116: {'name': 'Si Wu', 'physics': 83, 'math': 80, 'python': 100}, 202117: {'name': 'Si Zheng', 'physics': 73, 'math': 65, 'python': 43}, 202118: {'name': 'Si Wang', 'physics': 100, 'math': 84, 'python': 80}, 202119: {'name': 'Si Feng', 'physics': 76, 'math': 62, 'python': 75}, 202120: {'name': 'Si Cheng', 'physics': 95, 'math': 55, 'python': 83}, 202121: {'name': 'Si Chu', 'physics': 87, 'math': 90, 'python': 71}, 202122: {'name': 'Wu Zhao', 'physics': 81, 'math': 42, 'python': 47}, 202123: {'name': 'Wu Qian', 'physics': 48, 'math': 65, 'python': 39}, 202124: {'name': 'Wu Sun', 'physics': 47, 'math': 64, 'python': 64}, 202125: {'name': 'Wu Li', 'physics': 84, 'math': 63, 'python': 93}, 202126: {'name': 'Wu Zhou', 'physics': 61, 'math': 37, 'python': 94}, 202127: {'name': 'Wu Wu', 'physics': 56, 'math': 59, 'python': 59}, 202128: {'name': 'Wu Zheng', 'physics': 100, 'math': 61, 'python': 77}, 202129: {'name': 'Wu Wang', 'physics': 72, 'math': 62, 'python': 87}, 202130: {'name': 'Wu Feng', 'physics': 87, 'math': 76, 'python': 100}, 202131: {'name': 'Wu Cheng', 'physics': 51, 'math': 69, 'python': 91}, 202132: {'name': 'Wu Chu', 'physics': 70, 'math': 81, 'python': 100}, 202133: {'name': 'Liu Zhao', 'physics': 57, 'math': 80, 'python': 92}, 202134: {'name': 'Liu Qian', 'physics': 90, 'math': 82, 'python': 20}, 202135: {'name': 'Liu Sun', 'physics': 37, 'math': 90, 'python': 44}, 202136: {'name': 'Liu Li', 'physics': 94, 'math': 92, 'python': 100}, 202137: {'name': 'Liu Zhou', 'physics': 100, 'math': 94, 'python': 73}, 202138: {'name': 'Liu Wu', 'physics': 91, 'math': 86, 'python': 54}, 202139: {'name': 'Liu Zheng', 'physics': 100, 'math': 41, 'python': 81}, 202140: {'name': 'Liu Wang', 'physics': 59, 'math': 74, 'python': 51}, 202141: {'name': 'Liu Feng', 'physics': 80, 'math': 88, 'python': 76}, 202142: {'name': 'Liu Cheng', 'physics': 41, 'math': 49, 'python': 52}, 202143: {'name': 'Liu Chu', 'physics': 71, 'math': 73, 'python': 36}, 202144: {'name': 'Jia Zhao', 'physics': 84, 'math': 84, 'python': 90}, 202145: {'name': 'Jia Qian', 'physics': 70, 'math': 100, 'python': 98}, 202146: {'name': 'Jia Sun', 'physics': 89, 'math': 49, 'python': 99}, 202147: {'name': 'Jia Li', 'physics': 90, 'math': 50, 'python': 89}, 202148: {'name': 'Jia Zhou', 'physics': 75, 'math': 81, 'python': 70}, 202149: {'name': 'Jia Wu', 'physics': 89, 'math': 82, 'python': 100}, 202150: {'name': 'Jia Zheng', 'physics': 84, 'math': 74, 'python': 100}, 202151: {'name': 'Jia Wang', 'physics': 70, 'math': 78, 'python': 50}, 202152: {'name': 'Jia Feng', 'physics': 86, 'math': 76, 'python': 97}, 202153: {'name': 'Jia Cheng', 'physics': 100, 'math': 57, 'python': 21}, 202154: {'name': 'Jia Chu', 'physics': 57, 'math': 81, 'python': 47}, 202155: {'name': 'Yi Zhao', 'physics': 92, 'math': 25, 'python': 66}, 202156: {'name': 'Yi Qian', 'physics': 82, 'math': 85, 'python': 85}, 202157: {'name': 'Yi Sun', 'physics': 55, 'math': 89, 'python': 72}, 202158: {'name': 'Yi Li', 'physics': 100, 'math': 63, 'python': 79}, 202159: {'name': 'Yi Zhou', 'physics': 100, 'math': 7, 'python': 85}, 202160: {'name': 'Yi Wu', 'physics': 73, 'math': 77, 'python': 71}, 202161: {'name': 'Yi Zheng', 'physics': 76, 'math': 40, 'python': 35}, 202162: {'name': 'Yi Wang', 'physics': 88, 'math': 59, 'python': 89}, 202163: {'name': 'Yi Feng', 'physics': 44, 'math': 100, 'python': 100}, 202164: {'name': 'Yi Cheng', 'physics': 89, 'math': 73, 'python': 84}, 202165: {'name': 'Yi Chu', 'physics': 77, 'math': 87, 'python': 100}, 202166: {'name': 'Bing Zhao', 'physics': 98, 'math': 55, 'python': 100}, 202167: {'name': 'Bing Qian', 'physics': 66, 'math': 48, 'python': 60}, 202168: {'name': 'Bing Sun', 'physics': 95, 'math': 100, 'python': 82}, 202169: {'name': 'Bing Li', 'physics': 50, 'math': 90, 'python': 91}, 202170: {'name': 'Bing Zhou', 'physics': 94, 'math': 82, 'python': 65}, 202171: {'name': 'Bing Wu', 'physics': 70, 'math': 59, 'python': 60}, 202172: {'name': 'Bing Zheng', 'physics': 52, 'math': 30, 'python': 43}, 202173: {'name': 'Bing Wang', 'physics': 57, 'math': 97, 'python': 60}, 202174: {'name': 'Bing Feng', 'physics': 89, 'math': 61, 'python': 100}, 202175: {'name': 'Bing Cheng', 'physics': 82, 'math': 99, 'python': 71}, 202176: {'name': 'Bing Chu', 'physics': 70, 'math': 95, 'python': 86}, 202177: {'name': 'Ding Zhao', 'physics': 72, 'math': 21, 'python': 72}, 202178: {'name': 'Ding Qian', 'physics': 99, 'math': 81, 'python': 86}, 202179: {'name': 'Ding Sun', 'physics': 100, 'math': 100, 'python': 88}, 202180: {'name': 'Ding Li', 'physics': 69, 'math': 63, 'python': 45}, 202181: {'name': 'Ding Zhou', 'physics': 90, 'math': 77, 'python': 71}, 202182: {'name': 'Ding Wu', 'physics': 64, 'math': 86, 'python': 71}, 202183: {'name': 'Ding Zheng', 'physics': 57, 'math': 100, 'python': 66}, 202184: {'name': 'Ding Wang', 'physics': 100, 'math': 82, 'python': 100}, 202185: {'name': 'Ding Feng', 'physics': 96, 'math': 76, 'python': 82}, 202186: {'name': 'Ding Cheng', 'physics': 41, 'math': 30, 'python': 67}, 202187: {'name': 'Ding Chu', 'physics': 64, 'math': 89, 'python': 73}}\n"
     ]
    }
   ],
   "source": [
    "scores={}  #导入上述数据\n",
    "for i in range(0,88):\n",
    "    ID = int('2021' + repr(i)) #input('Input ID:')\n",
    "    name = names[i] #input('Input name:')\n",
    "    physics = get_random_score() #int(input('Input physics scores:'))\n",
    "    math_score = get_random_score() #int(input('Input math_score scores:'))\n",
    "    python = get_random_score() #int(input('Input python scores:'))\n",
    "    scores[ID] = {'name': name,'physics': physics,'math': math_score,'python': python}\n",
    "    \n",
    "print(scores)"
   ]
  },
  {
   "cell_type": "code",
   "execution_count": 38,
   "id": "5c014189",
   "metadata": {},
   "outputs": [],
   "source": [
    "import json\n",
    "with open('scores_db.json','w') as f:    #将文件以scores_db.json为名保存\n",
    "    json.dump(scores,f) #加入内容为scores"
   ]
  },
  {
   "cell_type": "code",
   "execution_count": 60,
   "id": "dd8da4a9",
   "metadata": {
    "scrolled": true
   },
   "outputs": [
    {
     "name": "stdout",
     "output_type": "stream",
     "text": [
      "{20210: {'math': 66, 'name': 'San Zhao', 'physics': 44, 'python': 59},\n",
      " 20211: {'math': 67, 'name': 'San Qian', 'physics': 67, 'python': 90},\n",
      " 20212: {'math': 37, 'name': 'San Sun', 'physics': 75, 'python': 56},\n",
      " 20213: {'math': 86, 'name': 'San Li', 'physics': 96, 'python': 78},\n",
      " 20214: {'math': 100, 'name': 'San Zhou', 'physics': 31, 'python': 89},\n",
      " 20215: {'math': 100, 'name': 'San Wu', 'physics': 95, 'python': 91},\n",
      " 20216: {'math': 100, 'name': 'San Zheng', 'physics': 86, 'python': 47},\n",
      " 20217: {'math': 74, 'name': 'San Wang', 'physics': 84, 'python': 57},\n",
      " 20218: {'math': 83, 'name': 'San Feng', 'physics': 99, 'python': 80},\n",
      " 20219: {'math': 69, 'name': 'San Cheng', 'physics': 51, 'python': 92},\n",
      " 202110: {'math': 66, 'name': 'San Chu', 'physics': 52, 'python': 97},\n",
      " 202111: {'math': 36, 'name': 'Si Zhao', 'physics': 73, 'python': 100},\n",
      " 202112: {'math': 52, 'name': 'Si Qian', 'physics': 74, 'python': 96},\n",
      " 202113: {'math': 63, 'name': 'Si Sun', 'physics': 87, 'python': 65},\n",
      " 202114: {'math': 68, 'name': 'Si Li', 'physics': 90, 'python': 52},\n",
      " 202115: {'math': 100, 'name': 'Si Zhou', 'physics': 88, 'python': 97},\n",
      " 202116: {'math': 80, 'name': 'Si Wu', 'physics': 83, 'python': 100},\n",
      " 202117: {'math': 65, 'name': 'Si Zheng', 'physics': 73, 'python': 43},\n",
      " 202118: {'math': 84, 'name': 'Si Wang', 'physics': 100, 'python': 80},\n",
      " 202119: {'math': 62, 'name': 'Si Feng', 'physics': 76, 'python': 75},\n",
      " 202120: {'math': 55, 'name': 'Si Cheng', 'physics': 95, 'python': 83},\n",
      " 202121: {'math': 90, 'name': 'Si Chu', 'physics': 87, 'python': 71},\n",
      " 202122: {'math': 42, 'name': 'Wu Zhao', 'physics': 81, 'python': 47},\n",
      " 202123: {'math': 65, 'name': 'Wu Qian', 'physics': 48, 'python': 39},\n",
      " 202124: {'math': 64, 'name': 'Wu Sun', 'physics': 47, 'python': 64},\n",
      " 202125: {'math': 63, 'name': 'Wu Li', 'physics': 84, 'python': 93},\n",
      " 202126: {'math': 37, 'name': 'Wu Zhou', 'physics': 61, 'python': 94},\n",
      " 202127: {'math': 59, 'name': 'Wu Wu', 'physics': 56, 'python': 59},\n",
      " 202128: {'math': 61, 'name': 'Wu Zheng', 'physics': 100, 'python': 77},\n",
      " 202129: {'math': 62, 'name': 'Wu Wang', 'physics': 72, 'python': 87},\n",
      " 202130: {'math': 76, 'name': 'Wu Feng', 'physics': 87, 'python': 100},\n",
      " 202131: {'math': 69, 'name': 'Wu Cheng', 'physics': 51, 'python': 91},\n",
      " 202132: {'math': 81, 'name': 'Wu Chu', 'physics': 70, 'python': 100},\n",
      " 202133: {'math': 80, 'name': 'Liu Zhao', 'physics': 57, 'python': 92},\n",
      " 202134: {'math': 82, 'name': 'Liu Qian', 'physics': 90, 'python': 20},\n",
      " 202135: {'math': 90, 'name': 'Liu Sun', 'physics': 37, 'python': 44},\n",
      " 202136: {'math': 92, 'name': 'Liu Li', 'physics': 94, 'python': 100},\n",
      " 202137: {'math': 94, 'name': 'Liu Zhou', 'physics': 100, 'python': 73},\n",
      " 202138: {'math': 86, 'name': 'Liu Wu', 'physics': 91, 'python': 54},\n",
      " 202139: {'math': 41, 'name': 'Liu Zheng', 'physics': 100, 'python': 81},\n",
      " 202140: {'math': 74, 'name': 'Liu Wang', 'physics': 59, 'python': 51},\n",
      " 202141: {'math': 88, 'name': 'Liu Feng', 'physics': 80, 'python': 76},\n",
      " 202142: {'math': 49, 'name': 'Liu Cheng', 'physics': 41, 'python': 52},\n",
      " 202143: {'math': 73, 'name': 'Liu Chu', 'physics': 71, 'python': 36},\n",
      " 202144: {'math': 84, 'name': 'Jia Zhao', 'physics': 84, 'python': 90},\n",
      " 202145: {'math': 100, 'name': 'Jia Qian', 'physics': 70, 'python': 98},\n",
      " 202146: {'math': 49, 'name': 'Jia Sun', 'physics': 89, 'python': 99},\n",
      " 202147: {'math': 50, 'name': 'Jia Li', 'physics': 90, 'python': 89},\n",
      " 202148: {'math': 81, 'name': 'Jia Zhou', 'physics': 75, 'python': 70},\n",
      " 202149: {'math': 82, 'name': 'Jia Wu', 'physics': 89, 'python': 100},\n",
      " 202150: {'math': 74, 'name': 'Jia Zheng', 'physics': 84, 'python': 100},\n",
      " 202151: {'math': 78, 'name': 'Jia Wang', 'physics': 70, 'python': 50},\n",
      " 202152: {'math': 76, 'name': 'Jia Feng', 'physics': 86, 'python': 97},\n",
      " 202153: {'math': 57, 'name': 'Jia Cheng', 'physics': 100, 'python': 21},\n",
      " 202154: {'math': 81, 'name': 'Jia Chu', 'physics': 57, 'python': 47},\n",
      " 202155: {'math': 25, 'name': 'Yi Zhao', 'physics': 92, 'python': 66},\n",
      " 202156: {'math': 85, 'name': 'Yi Qian', 'physics': 82, 'python': 85},\n",
      " 202157: {'math': 89, 'name': 'Yi Sun', 'physics': 55, 'python': 72},\n",
      " 202158: {'math': 63, 'name': 'Yi Li', 'physics': 100, 'python': 79},\n",
      " 202159: {'math': 7, 'name': 'Yi Zhou', 'physics': 100, 'python': 85},\n",
      " 202160: {'math': 77, 'name': 'Yi Wu', 'physics': 73, 'python': 71},\n",
      " 202161: {'math': 40, 'name': 'Yi Zheng', 'physics': 76, 'python': 35},\n",
      " 202162: {'math': 59, 'name': 'Yi Wang', 'physics': 88, 'python': 89},\n",
      " 202163: {'math': 100, 'name': 'Yi Feng', 'physics': 44, 'python': 100},\n",
      " 202164: {'math': 73, 'name': 'Yi Cheng', 'physics': 89, 'python': 84},\n",
      " 202165: {'math': 87, 'name': 'Yi Chu', 'physics': 77, 'python': 100},\n",
      " 202166: {'math': 55, 'name': 'Bing Zhao', 'physics': 98, 'python': 100},\n",
      " 202167: {'math': 48, 'name': 'Bing Qian', 'physics': 66, 'python': 60},\n",
      " 202168: {'math': 100, 'name': 'Bing Sun', 'physics': 95, 'python': 82},\n",
      " 202169: {'math': 90, 'name': 'Bing Li', 'physics': 50, 'python': 91},\n",
      " 202170: {'math': 82, 'name': 'Bing Zhou', 'physics': 94, 'python': 65},\n",
      " 202171: {'math': 59, 'name': 'Bing Wu', 'physics': 70, 'python': 60},\n",
      " 202172: {'math': 30, 'name': 'Bing Zheng', 'physics': 52, 'python': 43},\n",
      " 202173: {'math': 97, 'name': 'Bing Wang', 'physics': 57, 'python': 60},\n",
      " 202174: {'math': 61, 'name': 'Bing Feng', 'physics': 89, 'python': 100},\n",
      " 202175: {'math': 99, 'name': 'Bing Cheng', 'physics': 82, 'python': 71},\n",
      " 202176: {'math': 95, 'name': 'Bing Chu', 'physics': 70, 'python': 86},\n",
      " 202177: {'math': 21, 'name': 'Ding Zhao', 'physics': 72, 'python': 72},\n",
      " 202178: {'math': 81, 'name': 'Ding Qian', 'physics': 99, 'python': 86},\n",
      " 202179: {'math': 100, 'name': 'Ding Sun', 'physics': 100, 'python': 88},\n",
      " 202180: {'math': 63, 'name': 'Ding Li', 'physics': 69, 'python': 45},\n",
      " 202181: {'math': 77, 'name': 'Ding Zhou', 'physics': 90, 'python': 71},\n",
      " 202182: {'math': 86, 'name': 'Ding Wu', 'physics': 64, 'python': 71},\n",
      " 202183: {'math': 100, 'name': 'Ding Zheng', 'physics': 57, 'python': 66},\n",
      " 202184: {'math': 82, 'name': 'Ding Wang', 'physics': 100, 'python': 100},\n",
      " 202185: {'math': 76, 'name': 'Ding Feng', 'physics': 96, 'python': 82},\n",
      " 202186: {'math': 30, 'name': 'Ding Cheng', 'physics': 41, 'python': 67},\n",
      " 202187: {'math': 89, 'name': 'Ding Chu', 'physics': 64, 'python': 73}}\n"
     ]
    }
   ],
   "source": [
    "import pprint  #可以弄整齐一些\n",
    "pprint.pprint(scores)"
   ]
  },
  {
   "cell_type": "code",
   "execution_count": 62,
   "id": "f065b83d",
   "metadata": {},
   "outputs": [
    {
     "name": "stdout",
     "output_type": "stream",
     "text": [
      "Input a name:Ding Chu\n",
      "ID:202187,Name:Ding Chu,Physics:64,Maths:89,Python:73\n"
     ]
    }
   ],
   "source": [
    "name = input('Input a name:')  #搜索\n",
    "for item in scores:\n",
    "    if scores[item]['name'] == name:\n",
    "        print(f\"ID:{item},Name:{name},Physics:{scores[item]['physics']},Maths:{scores[item]['math']},Python:{scores[item]['python']}\")"
   ]
  },
  {
   "cell_type": "code",
   "execution_count": 61,
   "id": "861f59de",
   "metadata": {},
   "outputs": [
    {
     "name": "stdout",
     "output_type": "stream",
     "text": [
      "Input a name:Ding Chu\n",
      "ID:202187,Name:Ding Chu,Physics:64,Maths:89,Python:73\n"
     ]
    }
   ],
   "source": [
    "name = input('Input a name:')  #搜索,加速版本，将scores存在内存进行下一步操作，以内存换速度\n",
    "for key,value in scores.items():\n",
    "    if value['name'] == name:\n",
    "        print(f\"ID:{key},Name:{name},Physics:{value['physics']},Maths:{value['math']},Python:{value['python']}\")"
   ]
  },
  {
   "cell_type": "code",
   "execution_count": 68,
   "id": "ceb87233",
   "metadata": {},
   "outputs": [
    {
     "name": "stdout",
     "output_type": "stream",
     "text": [
      "Input a name:Ding Feng\n",
      "ID:202185,Name:Ding Feng,Physics:96,Maths:76,Python:82\n"
     ]
    }
   ],
   "source": [
    "name_to_id = {}\n",
    "for key,value in scores.items():\n",
    "    name_to_id[value['name']] = key  #将姓名作为key\n",
    "\n",
    "name = input('Input a name:')\n",
    "ID = name_to_id[name]\n",
    "print(f\"ID:{ID},Name:{scores[ID]['name']},Physics:{scores[ID]['physics']},Maths:{scores[ID]['math']},Python:{scores[ID]['python']}\")\n",
    "#scores[ID]"
   ]
  },
  {
   "cell_type": "code",
   "execution_count": 71,
   "id": "331340f0",
   "metadata": {
    "scrolled": true
   },
   "outputs": [
    {
     "data": {
      "text/plain": [
       "202187"
      ]
     },
     "execution_count": 71,
     "metadata": {},
     "output_type": "execute_result"
    }
   ],
   "source": [
    "key"
   ]
  }
 ],
 "metadata": {
  "kernelspec": {
   "display_name": "Python 3",
   "language": "python",
   "name": "python3"
  },
  "language_info": {
   "codemirror_mode": {
    "name": "ipython",
    "version": 3
   },
   "file_extension": ".py",
   "mimetype": "text/x-python",
   "name": "python",
   "nbconvert_exporter": "python",
   "pygments_lexer": "ipython3",
   "version": "3.8.8"
  }
 },
 "nbformat": 4,
 "nbformat_minor": 5
}
