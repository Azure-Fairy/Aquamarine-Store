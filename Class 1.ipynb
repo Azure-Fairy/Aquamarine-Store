{
 "cells": [
  {
   "cell_type": "code",
   "execution_count": 88,
   "id": "9338ec9e",
   "metadata": {},
   "outputs": [
    {
     "name": "stdout",
     "output_type": "stream",
     "text": [
      "please input a number:2\n",
      "square of (a) is 4\n"
     ]
    }
   ],
   "source": [
    "a = int(input(\"please input a number:\"))#注意输入的是字符串，不能分开分别计算\n",
    "print(f'square of {a} is {a*a}')"
   ]
  },
  {
   "cell_type": "code",
   "execution_count": 80,
   "id": "adce8030",
   "metadata": {},
   "outputs": [
    {
     "name": "stdout",
     "output_type": "stream",
     "text": [
      "input No.2\n",
      "input another No.3\n",
      "2.0 + 3.0 = 5.0\n"
     ]
    }
   ],
   "source": [
    "a = float(input('input No.'))\n",
    "b = float(input('input another No.'))\n",
    "\n",
    "print(f'{a} + {b} = {a+b}')"
   ]
  },
  {
   "cell_type": "code",
   "execution_count": 7,
   "id": "0495682d",
   "metadata": {},
   "outputs": [
    {
     "data": {
      "text/plain": [
       "0.6666666666666666"
      ]
     },
     "execution_count": 7,
     "metadata": {},
     "output_type": "execute_result"
    }
   ],
   "source": [
    "2 / 3"
   ]
  },
  {
   "cell_type": "code",
   "execution_count": 9,
   "id": "89140a3b",
   "metadata": {},
   "outputs": [
    {
     "data": {
      "text/plain": [
       "2"
      ]
     },
     "execution_count": 9,
     "metadata": {},
     "output_type": "execute_result"
    }
   ],
   "source": [
    "-4 % 3 #余数"
   ]
  },
  {
   "cell_type": "code",
   "execution_count": 13,
   "id": "1da09701",
   "metadata": {},
   "outputs": [
    {
     "data": {
      "text/plain": [
       "-1.3333333333333333"
      ]
     },
     "execution_count": 13,
     "metadata": {},
     "output_type": "execute_result"
    }
   ],
   "source": [
    "-4/3"
   ]
  },
  {
   "cell_type": "code",
   "execution_count": 14,
   "id": "6eb34905",
   "metadata": {},
   "outputs": [
    {
     "data": {
      "text/plain": [
       "2"
      ]
     },
     "execution_count": 14,
     "metadata": {},
     "output_type": "execute_result"
    }
   ],
   "source": [
    "0b10 #0b+二进制"
   ]
  },
  {
   "cell_type": "code",
   "execution_count": 15,
   "id": "cc6fce24",
   "metadata": {},
   "outputs": [
    {
     "data": {
      "text/plain": [
       "0"
      ]
     },
     "execution_count": 15,
     "metadata": {},
     "output_type": "execute_result"
    }
   ],
   "source": [
    "round(0.5)#四舍五入，0.5算0"
   ]
  },
  {
   "cell_type": "code",
   "execution_count": 16,
   "id": "586b0d7b",
   "metadata": {},
   "outputs": [
    {
     "data": {
      "text/plain": [
       "1"
      ]
     },
     "execution_count": 16,
     "metadata": {},
     "output_type": "execute_result"
    }
   ],
   "source": [
    "round(0.51)"
   ]
  },
  {
   "cell_type": "code",
   "execution_count": 19,
   "id": "54a85850",
   "metadata": {},
   "outputs": [
    {
     "data": {
      "text/plain": [
       "10"
      ]
     },
     "execution_count": 19,
     "metadata": {},
     "output_type": "execute_result"
    }
   ],
   "source": [
    "abs(-10)#绝对值"
   ]
  },
  {
   "cell_type": "code",
   "execution_count": 18,
   "id": "cd7ae42b",
   "metadata": {},
   "outputs": [
    {
     "data": {
      "text/plain": [
       "8"
      ]
     },
     "execution_count": 18,
     "metadata": {},
     "output_type": "execute_result"
    }
   ],
   "source": [
    "pow(2,3)#指数函数"
   ]
  },
  {
   "cell_type": "code",
   "execution_count": 36,
   "id": "049cf8ec",
   "metadata": {},
   "outputs": [
    {
     "ename": "ValueError",
     "evalue": "math domain error",
     "output_type": "error",
     "traceback": [
      "\u001b[1;31m---------------------------------------------------------------------------\u001b[0m",
      "\u001b[1;31mValueError\u001b[0m                                Traceback (most recent call last)",
      "\u001b[1;32m<ipython-input-36-1ef3ebbbec87>\u001b[0m in \u001b[0;36m<module>\u001b[1;34m\u001b[0m\n\u001b[0;32m      2\u001b[0m \u001b[0mmath\u001b[0m\u001b[1;33m.\u001b[0m\u001b[0mfloor\u001b[0m\u001b[1;33m(\u001b[0m\u001b[1;36m3.2\u001b[0m\u001b[1;33m)\u001b[0m\u001b[1;33m\u001b[0m\u001b[1;33m\u001b[0m\u001b[0m\n\u001b[0;32m      3\u001b[0m \u001b[0mmath\u001b[0m\u001b[1;33m.\u001b[0m\u001b[0msqrt\u001b[0m\u001b[1;33m(\u001b[0m\u001b[1;36m4\u001b[0m\u001b[1;33m)\u001b[0m\u001b[1;33m\u001b[0m\u001b[1;33m\u001b[0m\u001b[0m\n\u001b[1;32m----> 4\u001b[1;33m \u001b[0mmath\u001b[0m\u001b[1;33m.\u001b[0m\u001b[0msqrt\u001b[0m\u001b[1;33m(\u001b[0m\u001b[1;33m-\u001b[0m\u001b[1;36m1\u001b[0m\u001b[1;33m)\u001b[0m\u001b[1;31m#会报错\u001b[0m\u001b[1;33m\u001b[0m\u001b[1;33m\u001b[0m\u001b[0m\n\u001b[0m",
      "\u001b[1;31mValueError\u001b[0m: math domain error"
     ]
    }
   ],
   "source": [
    "import  math\n",
    "math.floor(3.2)\n",
    "math.sqrt(4)\n",
    "math.ceil(3.2)\n",
    "math.sqrt(-1)#会报错"
   ]
  },
  {
   "cell_type": "code",
   "execution_count": 37,
   "id": "e1115d60",
   "metadata": {},
   "outputs": [
    {
     "data": {
      "text/plain": [
       "4"
      ]
     },
     "execution_count": 37,
     "metadata": {},
     "output_type": "execute_result"
    }
   ],
   "source": [
    "math.ceil(3.2)"
   ]
  },
  {
   "cell_type": "code",
   "execution_count": 34,
   "id": "7b0735e5",
   "metadata": {},
   "outputs": [],
   "source": [
    "import  cmath"
   ]
  },
  {
   "cell_type": "code",
   "execution_count": 35,
   "id": "9a6aed09",
   "metadata": {},
   "outputs": [
    {
     "data": {
      "text/plain": [
       "1j"
      ]
     },
     "execution_count": 35,
     "metadata": {},
     "output_type": "execute_result"
    }
   ],
   "source": [
    "cmath.sqrt(-1)"
   ]
  },
  {
   "cell_type": "code",
   "execution_count": 38,
   "id": "4fa75354",
   "metadata": {},
   "outputs": [
    {
     "data": {
      "text/plain": [
       "complex"
      ]
     },
     "execution_count": 38,
     "metadata": {},
     "output_type": "execute_result"
    }
   ],
   "source": [
    "type(1j)"
   ]
  },
  {
   "cell_type": "code",
   "execution_count": 41,
   "id": "19825dcf",
   "metadata": {},
   "outputs": [
    {
     "data": {
      "text/plain": [
       "(2+0j)"
      ]
     },
     "execution_count": 41,
     "metadata": {},
     "output_type": "execute_result"
    }
   ],
   "source": [
    "a=(1+1j) * (1-1j)\n",
    "a"
   ]
  },
  {
   "cell_type": "code",
   "execution_count": 48,
   "id": "000b197a",
   "metadata": {},
   "outputs": [
    {
     "name": "stdout",
     "output_type": "stream",
     "text": [
      "It's time to work\n",
      "clock ringing\n"
     ]
    }
   ],
   "source": [
    "if 3 == 4:\n",
    "    print(\"I guess I'm dreaming\")#当引号重复，可单引号双引号。\n",
    "else:\n",
    "    print(\"It's time to work\")#if条件函数\n",
    "    \n",
    "print(\"Clock ringing\")"
   ]
  },
  {
   "cell_type": "code",
   "execution_count": 47,
   "id": "13641e76",
   "metadata": {},
   "outputs": [
    {
     "ename": "IndentationError",
     "evalue": "expected an indented block (<ipython-input-47-5d4043ffc094>, line 2)",
     "output_type": "error",
     "traceback": [
      "\u001b[1;36m  File \u001b[1;32m\"<ipython-input-47-5d4043ffc094>\"\u001b[1;36m, line \u001b[1;32m2\u001b[0m\n\u001b[1;33m    print(\"I guess I'm dreaming\")\u001b[0m\n\u001b[1;37m    ^\u001b[0m\n\u001b[1;31mIndentationError\u001b[0m\u001b[1;31m:\u001b[0m expected an indented block\n"
     ]
    }
   ],
   "source": [
    "if 3 == 4:\n",
    "print(\"I guess I'm dreaming\")\n",
    "else:\n",
    "print(\"It's time to work\")#对格式有强烈要求，如条件函数，if和else后的语句必需缩进,否则报错。"
   ]
  },
  {
   "cell_type": "code",
   "execution_count": 54,
   "id": "4c976d1b",
   "metadata": {},
   "outputs": [
    {
     "name": "stdout",
     "output_type": "stream",
     "text": [
      "1 2 3 4 5 6 7 8 9 "
     ]
    }
   ],
   "source": [
    "x = 1\n",
    "while x<10:\n",
    "     print(x ,end= ' ')#end符号设置成空格，如默认情况则为换行。\n",
    "     x = x + 1"
   ]
  },
  {
   "cell_type": "code",
   "execution_count": 55,
   "id": "21ff48cf",
   "metadata": {},
   "outputs": [
    {
     "name": "stdout",
     "output_type": "stream",
     "text": [
      "1\n",
      "2\n",
      "3\n",
      "4\n",
      "5\n",
      "6\n",
      "7\n",
      "8\n",
      "9\n"
     ]
    }
   ],
   "source": [
    "x = 1\n",
    "while x<10:\n",
    "     print(x)\n",
    "     x = x + 1"
   ]
  },
  {
   "cell_type": "code",
   "execution_count": 64,
   "id": "92aed409",
   "metadata": {},
   "outputs": [
    {
     "ename": "Terminator",
     "evalue": "",
     "output_type": "error",
     "traceback": [
      "\u001b[1;31m---------------------------------------------------------------------------\u001b[0m",
      "\u001b[1;31mTerminator\u001b[0m                                Traceback (most recent call last)",
      "\u001b[1;32m<ipython-input-64-bde7311da3be>\u001b[0m in \u001b[0;36m<module>\u001b[1;34m\u001b[0m\n\u001b[0;32m      1\u001b[0m \u001b[1;32mimport\u001b[0m \u001b[0mturtle\u001b[0m\u001b[1;31m#海龟绘图，可引导孩子编程\u001b[0m\u001b[1;33m\u001b[0m\u001b[1;33m\u001b[0m\u001b[0m\n\u001b[1;32m----> 2\u001b[1;33m \u001b[0mturtle\u001b[0m\u001b[1;33m.\u001b[0m\u001b[0mhideturtle\u001b[0m\u001b[1;33m(\u001b[0m\u001b[1;33m)\u001b[0m\u001b[1;31m#隐藏海龟\u001b[0m\u001b[1;33m\u001b[0m\u001b[1;33m\u001b[0m\u001b[0m\n\u001b[0m\u001b[0;32m      3\u001b[0m \u001b[0mturtle\u001b[0m\u001b[1;33m.\u001b[0m\u001b[0mspeed\u001b[0m\u001b[1;33m(\u001b[0m\u001b[1;36m0.01\u001b[0m\u001b[1;33m)\u001b[0m\u001b[1;33m\u001b[0m\u001b[1;33m\u001b[0m\u001b[0m\n\u001b[0;32m      4\u001b[0m \u001b[0mturtle\u001b[0m\u001b[1;33m.\u001b[0m\u001b[0mbgcolor\u001b[0m\u001b[1;33m(\u001b[0m\u001b[1;34m'black'\u001b[0m\u001b[1;33m)\u001b[0m\u001b[1;33m\u001b[0m\u001b[1;33m\u001b[0m\u001b[0m\n\u001b[0;32m      5\u001b[0m \u001b[0mturtle\u001b[0m\u001b[1;33m.\u001b[0m\u001b[0mcolor\u001b[0m\u001b[1;33m(\u001b[0m\u001b[1;36m1.0\u001b[0m\u001b[1;33m,\u001b[0m\u001b[1;36m1.0\u001b[0m\u001b[1;33m,\u001b[0m\u001b[1;36m1.0\u001b[0m\u001b[1;33m)\u001b[0m\u001b[1;31m#RGB都设置为1，则白色\u001b[0m\u001b[1;33m\u001b[0m\u001b[1;33m\u001b[0m\u001b[0m\n",
      "\u001b[1;32mD:\\Program Files (x86)\\Anaconda3\\lib\\turtle.py\u001b[0m in \u001b[0;36mhideturtle\u001b[1;34m()\u001b[0m\n",
      "\u001b[1;31mTerminator\u001b[0m: "
     ]
    }
   ],
   "source": [
    "import turtle#海龟绘图，可引导孩子编程\n",
    "turtle.hideturtle()#隐藏海龟\n",
    "turtle.speed(0.01)#前进速度\n",
    "turtle.bgcolor('black')#背景颜色\n",
    "turtle.color(1.0,1.0,1.0)#RGB 都设置为1，则白色\n",
    "\n",
    "turtle.forward(100) #前进一百米\n",
    "turtle.right(90) #右转90°\n",
    "turtle.forward(100) \n",
    "turtle.right(90) \n",
    "turtle.forward(100) \n",
    "turtle.right(90) \n",
    "turtle.forward(100) \n",
    "turtle.right(90) \n",
    "\n",
    "turtle.exitonclick()#点击时退出"
   ]
  },
  {
   "cell_type": "code",
   "execution_count": 68,
   "id": "ce2a5c0d",
   "metadata": {},
   "outputs": [],
   "source": [
    "import turtle#海龟绘图，可引导孩子编程\n",
    "turtle.hideturtle()#隐藏海龟\n",
    "turtle.speed(0.01)\n",
    "turtle.bgcolor('black')\n",
    "turtle.color(1.0,1.0,1.0)#RGB都设置为1，则白色\n",
    "\n",
    "x = 0\n",
    "while x<4:\n",
    "   turtle.forward(100) #前进一百米\n",
    "   turtle.right(90) #右转90°\n",
    "   x+=1\n",
    "turtle.exitonclick()#点击时退出"
   ]
  },
  {
   "cell_type": "code",
   "execution_count": 85,
   "id": "f5b8ed2b",
   "metadata": {},
   "outputs": [],
   "source": [
    "import turtle#海龟绘图，可引导孩子编程\n",
    "turtle.hideturtle()#隐藏海龟\n",
    "turtle.speed(0.01)\n",
    "turtle.bgcolor('black')\n",
    "turtle.color(1.0,1.0,1.0)#RGB都设置为1，则白色\n",
    "\n",
    "x = 1\n",
    "while x<300:\n",
    "   turtle.forward(x) #前进x米\n",
    "   turtle.right(89) #右转89°\n",
    "   x += 2\n",
    "turtle.exitonclick()#点击时退出"
   ]
  },
  {
   "cell_type": "code",
   "execution_count": 95,
   "id": "c6af2e9a",
   "metadata": {},
   "outputs": [
    {
     "data": {
      "text/plain": [
       "str"
      ]
     },
     "execution_count": 95,
     "metadata": {},
     "output_type": "execute_result"
    }
   ],
   "source": [
    "s='hello'\n",
    "type(s) #字符格式"
   ]
  },
  {
   "cell_type": "code",
   "execution_count": 96,
   "id": "824c371a",
   "metadata": {},
   "outputs": [
    {
     "data": {
      "text/plain": [
       "'h'"
      ]
     },
     "execution_count": 96,
     "metadata": {},
     "output_type": "execute_result"
    }
   ],
   "source": [
    "s[0]#计数从第0个开始，即h e l l o"
   ]
  },
  {
   "cell_type": "code",
   "execution_count": 92,
   "id": "821c14ae",
   "metadata": {},
   "outputs": [
    {
     "ename": "TypeError",
     "evalue": "'str' object does not support item assignment",
     "output_type": "error",
     "traceback": [
      "\u001b[1;31m---------------------------------------------------------------------------\u001b[0m",
      "\u001b[1;31mTypeError\u001b[0m                                 Traceback (most recent call last)",
      "\u001b[1;32m<ipython-input-92-b08dc0fbb332>\u001b[0m in \u001b[0;36m<module>\u001b[1;34m\u001b[0m\n\u001b[1;32m----> 1\u001b[1;33m \u001b[0ms\u001b[0m\u001b[1;33m[\u001b[0m\u001b[1;36m0\u001b[0m\u001b[1;33m]\u001b[0m\u001b[1;33m=\u001b[0m\u001b[1;34m'H'\u001b[0m\u001b[1;31m#immutable不可改变特性\u001b[0m\u001b[1;33m\u001b[0m\u001b[1;33m\u001b[0m\u001b[0m\n\u001b[0m",
      "\u001b[1;31mTypeError\u001b[0m: 'str' object does not support item assignment"
     ]
    }
   ],
   "source": [
    "s[0]='H'#immutable不可改变特性"
   ]
  },
  {
   "cell_type": "code",
   "execution_count": 93,
   "id": "638e87c1",
   "metadata": {},
   "outputs": [],
   "source": [
    "s='Hello' #重新赋值，原内容被直接清除标签引用，此时run前面的函数可引起变化"
   ]
  },
  {
   "cell_type": "code",
   "execution_count": 97,
   "id": "422ced24",
   "metadata": {},
   "outputs": [],
   "source": [
    "s=100 #Python可以将不同类型内容变为同一标签赋值，为动态类型语言。而C语言不可混用赋值。"
   ]
  },
  {
   "cell_type": "code",
   "execution_count": 98,
   "id": "cc440842",
   "metadata": {},
   "outputs": [
    {
     "data": {
      "text/plain": [
       "'HELLO'"
      ]
     },
     "execution_count": 98,
     "metadata": {},
     "output_type": "execute_result"
    }
   ],
   "source": [
    "s='hello'\n",
    "s.upper() #字符大写"
   ]
  },
  {
   "cell_type": "code",
   "execution_count": 99,
   "id": "dd02d745",
   "metadata": {},
   "outputs": [
    {
     "data": {
      "text/plain": [
       "'hello'"
      ]
     },
     "execution_count": 99,
     "metadata": {},
     "output_type": "execute_result"
    }
   ],
   "source": [
    "s #此时s没有赋值变化"
   ]
  },
  {
   "cell_type": "code",
   "execution_count": 100,
   "id": "ed7a866a",
   "metadata": {},
   "outputs": [
    {
     "data": {
      "text/plain": [
       "'HELLO'"
      ]
     },
     "execution_count": 100,
     "metadata": {},
     "output_type": "execute_result"
    }
   ],
   "source": [
    "s=s.upper() #在重新赋值之后，字符串内容生了变化。\n",
    "s"
   ]
  },
  {
   "cell_type": "code",
   "execution_count": 103,
   "id": "9c28c48c",
   "metadata": {},
   "outputs": [
    {
     "data": {
      "text/plain": [
       "'hello\\ntest\\ntest\\n'"
      ]
     },
     "execution_count": 103,
     "metadata": {},
     "output_type": "execute_result"
    }
   ],
   "source": [
    "long_string=\"\"\"hello\n",
    "test\n",
    "test\n",
    "\"\"\"\n",
    "long_string #此时换行符为\\n"
   ]
  },
  {
   "cell_type": "code",
   "execution_count": 104,
   "id": "922ff31f",
   "metadata": {},
   "outputs": [
    {
     "name": "stdout",
     "output_type": "stream",
     "text": [
      "hello\n",
      "test\n",
      "test\n",
      "\n"
     ]
    }
   ],
   "source": [
    "print(long_string)"
   ]
  },
  {
   "cell_type": "code",
   "execution_count": 109,
   "id": "e2722ad2",
   "metadata": {},
   "outputs": [
    {
     "name": "stdout",
     "output_type": "stream",
     "text": [
      "'hello\\ntest\\ntest\\n'\n"
     ]
    }
   ],
   "source": [
    "print(repr(long_string)) #更改为在计算机中的表示字符串。"
   ]
  },
  {
   "cell_type": "code",
   "execution_count": 115,
   "id": "d0262057",
   "metadata": {},
   "outputs": [
    {
     "data": {
      "text/plain": [
       "9"
      ]
     },
     "execution_count": 115,
     "metadata": {},
     "output_type": "execute_result"
    }
   ],
   "source": [
    "1+2+3\n",
    "+4+5 #jupyter Notebook只输出最后一行的内容"
   ]
  },
  {
   "cell_type": "code",
   "execution_count": 116,
   "id": "eefaff3f",
   "metadata": {},
   "outputs": [
    {
     "data": {
      "text/plain": [
       "15"
      ]
     },
     "execution_count": 116,
     "metadata": {},
     "output_type": "execute_result"
    }
   ],
   "source": [
    "1+2+3\\\n",
    "+4+5 #但加了（\\）续行号除外"
   ]
  },
  {
   "cell_type": "code",
   "execution_count": 118,
   "id": "ed6f70d8",
   "metadata": {},
   "outputs": [
    {
     "name": "stdout",
     "output_type": "stream",
     "text": [
      "15\n"
     ]
    }
   ],
   "source": [
    "print(1+2+3\n",
    "     +4+5) #但是括号也可以"
   ]
  },
  {
   "cell_type": "code",
   "execution_count": 124,
   "id": "c2ee79f1",
   "metadata": {},
   "outputs": [
    {
     "data": {
      "text/plain": [
       "'d:\\\\data\\test\\x0cile.txt'"
      ]
     },
     "execution_count": 124,
     "metadata": {},
     "output_type": "execute_result"
    }
   ],
   "source": [
    "'d:\\data\\test\\file.txt'  #(\\)太多Python无法识别"
   ]
  },
  {
   "cell_type": "code",
   "execution_count": 126,
   "id": "155c704e",
   "metadata": {},
   "outputs": [
    {
     "data": {
      "text/plain": [
       "'d:\\\\data\\\\test\\\\file.exe'"
      ]
     },
     "execution_count": 126,
     "metadata": {},
     "output_type": "execute_result"
    }
   ],
   "source": [
    "r'd:\\data\\test\\file.exe'"
   ]
  },
  {
   "cell_type": "code",
   "execution_count": 129,
   "id": "bfb16036",
   "metadata": {},
   "outputs": [
    {
     "data": {
      "text/plain": [
       "bytearray(b'hello')"
      ]
     },
     "execution_count": 129,
     "metadata": {},
     "output_type": "execute_result"
    }
   ],
   "source": [
    "x=bytearray(b'hello') #原生字符串，不进行转义\n",
    "x"
   ]
  },
  {
   "cell_type": "code",
   "execution_count": 130,
   "id": "757e4b7e",
   "metadata": {},
   "outputs": [
    {
     "data": {
      "text/plain": [
       "bytearray(b'Hello')"
      ]
     },
     "execution_count": 130,
     "metadata": {},
     "output_type": "execute_result"
    }
   ],
   "source": [
    "x[0] = ord('H')\n",
    "x"
   ]
  },
  {
   "cell_type": "code",
   "execution_count": 131,
   "id": "62771411",
   "metadata": {},
   "outputs": [
    {
     "data": {
      "text/plain": [
       "72"
      ]
     },
     "execution_count": 131,
     "metadata": {},
     "output_type": "execute_result"
    }
   ],
   "source": [
    "ord('H') #每一个英文字母、标点符号等均有一个固定位置的ASCII码。"
   ]
  },
  {
   "cell_type": "code",
   "execution_count": 132,
   "id": "4a932736",
   "metadata": {},
   "outputs": [
    {
     "data": {
      "text/plain": [
       "b'hello'"
      ]
     },
     "execution_count": 132,
     "metadata": {},
     "output_type": "execute_result"
    }
   ],
   "source": [
    "'hello'.encode('ASCII') "
   ]
  },
  {
   "cell_type": "code",
   "execution_count": 133,
   "id": "f7a94950",
   "metadata": {},
   "outputs": [
    {
     "ename": "UnicodeEncodeError",
     "evalue": "'ascii' codec can't encode characters in position 0-1: ordinal not in range(128)",
     "output_type": "error",
     "traceback": [
      "\u001b[1;31m---------------------------------------------------------------------------\u001b[0m",
      "\u001b[1;31mUnicodeEncodeError\u001b[0m                        Traceback (most recent call last)",
      "\u001b[1;32m<ipython-input-133-944043003b91>\u001b[0m in \u001b[0;36m<module>\u001b[1;34m\u001b[0m\n\u001b[1;32m----> 1\u001b[1;33m \u001b[1;34m'你好'\u001b[0m\u001b[1;33m.\u001b[0m\u001b[0mencode\u001b[0m\u001b[1;33m(\u001b[0m\u001b[1;34m'ASCII'\u001b[0m\u001b[1;33m)\u001b[0m\u001b[1;33m\u001b[0m\u001b[1;33m\u001b[0m\u001b[0m\n\u001b[0m",
      "\u001b[1;31mUnicodeEncodeError\u001b[0m: 'ascii' codec can't encode characters in position 0-1: ordinal not in range(128)"
     ]
    }
   ],
   "source": [
    "'你好'.encode('ASCII') #ASCII编码"
   ]
  },
  {
   "cell_type": "code",
   "execution_count": 134,
   "id": "77be3c83",
   "metadata": {},
   "outputs": [
    {
     "data": {
      "text/plain": [
       "b'\\xc4\\xe3\\xba\\xc3'"
      ]
     },
     "execution_count": 134,
     "metadata": {},
     "output_type": "execute_result"
    }
   ],
   "source": [
    "\"你好\".encode('MBCS') # multi-type character set多级字符设置"
   ]
  },
  {
   "cell_type": "code",
   "execution_count": 135,
   "id": "089b07af",
   "metadata": {},
   "outputs": [
    {
     "data": {
      "text/plain": [
       "b'\\xe4\\xbd\\xa0\\xe5\\xa5\\xbd'"
      ]
     },
     "execution_count": 135,
     "metadata": {},
     "output_type": "execute_result"
    }
   ],
   "source": [
    "'你好'.encode('utf8') #用UTF8格式编码，下文同理"
   ]
  },
  {
   "cell_type": "code",
   "execution_count": 136,
   "id": "ecb47e32",
   "metadata": {},
   "outputs": [
    {
     "data": {
      "text/plain": [
       "b'\\xff\\xfe`O}Y'"
      ]
     },
     "execution_count": 136,
     "metadata": {},
     "output_type": "execute_result"
    }
   ],
   "source": [
    "'你好'.encode('utf16')"
   ]
  },
  {
   "cell_type": "code",
   "execution_count": 137,
   "id": "25ff096f",
   "metadata": {},
   "outputs": [
    {
     "data": {
      "text/plain": [
       "b'\\xff\\xfe\\x00\\x00`O\\x00\\x00}Y\\x00\\x00'"
      ]
     },
     "execution_count": 137,
     "metadata": {},
     "output_type": "execute_result"
    }
   ],
   "source": [
    "'你好'.encode('utf32')"
   ]
  },
  {
   "cell_type": "code",
   "execution_count": 138,
   "id": "bf8547d8",
   "metadata": {},
   "outputs": [
    {
     "ename": "LookupError",
     "evalue": "unknown encoding: utf64",
     "output_type": "error",
     "traceback": [
      "\u001b[1;31m---------------------------------------------------------------------------\u001b[0m",
      "\u001b[1;31mLookupError\u001b[0m                               Traceback (most recent call last)",
      "\u001b[1;32m<ipython-input-138-cba150447224>\u001b[0m in \u001b[0;36m<module>\u001b[1;34m\u001b[0m\n\u001b[1;32m----> 1\u001b[1;33m \u001b[1;34m'你好'\u001b[0m\u001b[1;33m.\u001b[0m\u001b[0mencode\u001b[0m\u001b[1;33m(\u001b[0m\u001b[1;34m'utf64'\u001b[0m\u001b[1;33m)\u001b[0m\u001b[1;33m\u001b[0m\u001b[1;33m\u001b[0m\u001b[0m\n\u001b[0m",
      "\u001b[1;31mLookupError\u001b[0m: unknown encoding: utf64"
     ]
    }
   ],
   "source": []
  },
  {
   "cell_type": "code",
   "execution_count": 11,
   "id": "dca72072",
   "metadata": {},
   "outputs": [
    {
     "name": "stdout",
     "output_type": "stream",
     "text": [
      "请输入温度32C\n",
      "转换后的温度是89.6℉\n"
     ]
    }
   ],
   "source": [
    "T=input('请输入温度')\n",
    "if T[-1] in ['F','f','℉']:\n",
    "    A=(eval(T[0:-1])-32)/1.8\n",
    "    print(f'转换后的温度是{A}℃')\n",
    "elif T[-1] in ['C','c','℃']:\n",
    "    A= 1.8 * eval(T[0:-1]) + 32\n",
    "    print(f'转换后的温度是{A}℉')\n",
    "else:\n",
    "    print('格式输入错误')"
   ]
  },
  {
   "cell_type": "code",
   "execution_count": null,
   "id": "dc380c30",
   "metadata": {},
   "outputs": [],
   "source": []
  }
 ],
 "metadata": {
  "kernelspec": {
   "display_name": "Python 3",
   "language": "python",
   "name": "python3"
  },
  "language_info": {
   "codemirror_mode": {
    "name": "ipython",
    "version": 3
   },
   "file_extension": ".py",
   "mimetype": "text/x-python",
   "name": "python",
   "nbconvert_exporter": "python",
   "pygments_lexer": "ipython3",
   "version": "3.8.8"
  }
 },
 "nbformat": 4,
 "nbformat_minor": 5
}
