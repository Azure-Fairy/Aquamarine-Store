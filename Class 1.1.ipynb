{
 "cells": [
  {
   "cell_type": "code",
   "execution_count": 2,
   "id": "fd849e4f",
   "metadata": {},
   "outputs": [],
   "source": [
    "my_list=[0,1,2,3,4,5] #list是一个可变的对象"
   ]
  },
  {
   "cell_type": "code",
   "execution_count": 3,
   "id": "ca013403",
   "metadata": {},
   "outputs": [
    {
     "data": {
      "text/plain": [
       "0"
      ]
     },
     "execution_count": 3,
     "metadata": {},
     "output_type": "execute_result"
    }
   ],
   "source": [
    "my_list[0]"
   ]
  },
  {
   "cell_type": "code",
   "execution_count": 7,
   "id": "01b71891",
   "metadata": {},
   "outputs": [
    {
     "data": {
      "text/plain": [
       "[0, 100, 2, 3, 4, 5]"
      ]
     },
     "execution_count": 7,
     "metadata": {},
     "output_type": "execute_result"
    }
   ],
   "source": [
    "my_list[1]=100 #对list的第二位重新赋值\n",
    "my_list"
   ]
  },
  {
   "cell_type": "code",
   "execution_count": 8,
   "id": "5920417d",
   "metadata": {},
   "outputs": [
    {
     "data": {
      "text/plain": [
       "5"
      ]
     },
     "execution_count": 8,
     "metadata": {},
     "output_type": "execute_result"
    }
   ],
   "source": [
    "my_list[-1] #倒数第一个元素"
   ]
  },
  {
   "cell_type": "code",
   "execution_count": 9,
   "id": "2786d155",
   "metadata": {},
   "outputs": [
    {
     "ename": "IndexError",
     "evalue": "list index out of range",
     "output_type": "error",
     "traceback": [
      "\u001b[1;31m---------------------------------------------------------------------------\u001b[0m",
      "\u001b[1;31mIndexError\u001b[0m                                Traceback (most recent call last)",
      "\u001b[1;32m<ipython-input-9-5d8d70a8d9cd>\u001b[0m in \u001b[0;36m<module>\u001b[1;34m\u001b[0m\n\u001b[1;32m----> 1\u001b[1;33m \u001b[0mmy_list\u001b[0m\u001b[1;33m[\u001b[0m\u001b[1;36m6\u001b[0m\u001b[1;33m]\u001b[0m \u001b[1;31m#数据超标，报错\u001b[0m\u001b[1;33m\u001b[0m\u001b[1;33m\u001b[0m\u001b[0m\n\u001b[0m",
      "\u001b[1;31mIndexError\u001b[0m: list index out of range"
     ]
    }
   ],
   "source": [
    "my_list[6] #数据超标，报错list index out of range"
   ]
  },
  {
   "cell_type": "code",
   "execution_count": 12,
   "id": "e8afa178",
   "metadata": {},
   "outputs": [
    {
     "data": {
      "text/plain": [
       "0"
      ]
     },
     "execution_count": 12,
     "metadata": {},
     "output_type": "execute_result"
    }
   ],
   "source": [
    "my_list[-6] #从左往右数和从右往左数的区别"
   ]
  },
  {
   "cell_type": "code",
   "execution_count": 13,
   "id": "0d3bef2f",
   "metadata": {},
   "outputs": [
    {
     "data": {
      "text/plain": [
       "[0, 100, 2]"
      ]
     },
     "execution_count": 13,
     "metadata": {},
     "output_type": "execute_result"
    }
   ],
   "source": [
    "my_list[0:3] #显示前三个元素，一般默认为开区间"
   ]
  },
  {
   "cell_type": "code",
   "execution_count": 17,
   "id": "e18a767f",
   "metadata": {},
   "outputs": [
    {
     "data": {
      "text/plain": [
       "[0, 2, 4]"
      ]
     },
     "execution_count": 17,
     "metadata": {},
     "output_type": "execute_result"
    }
   ],
   "source": [
    "my_list[0::2]  # 0: 标识从第0个到最后一个，：2表示每2个显示一次"
   ]
  },
  {
   "cell_type": "code",
   "execution_count": 18,
   "id": "bfac89f5",
   "metadata": {},
   "outputs": [
    {
     "data": {
      "text/plain": [
       "[5, 4, 3, 2, 100, 0]"
      ]
     },
     "execution_count": 18,
     "metadata": {},
     "output_type": "execute_result"
    }
   ],
   "source": [
    "my_list[-1::-1] #倒叙从最后一个开始，步长为-1"
   ]
  },
  {
   "cell_type": "code",
   "execution_count": 19,
   "id": "f1300526",
   "metadata": {},
   "outputs": [
    {
     "data": {
      "text/plain": [
       "[0, 100, 2, 3, 4, 5]"
      ]
     },
     "execution_count": 19,
     "metadata": {},
     "output_type": "execute_result"
    }
   ],
   "source": [
    "a=my_list\n",
    "a"
   ]
  },
  {
   "cell_type": "code",
   "execution_count": 20,
   "id": "caffdea9",
   "metadata": {},
   "outputs": [
    {
     "data": {
      "text/plain": [
       "[0, 100, 2, 3, 4, 5]"
      ]
     },
     "execution_count": 20,
     "metadata": {},
     "output_type": "execute_result"
    }
   ],
   "source": [
    "my_list"
   ]
  },
  {
   "cell_type": "code",
   "execution_count": 21,
   "id": "841ce554",
   "metadata": {},
   "outputs": [
    {
     "data": {
      "text/plain": [
       "[-1, 100, 2, 3, 4, 5]"
      ]
     },
     "execution_count": 21,
     "metadata": {},
     "output_type": "execute_result"
    }
   ],
   "source": [
    "a[0]=-1 ###在上述操作后，对象my_list与a标签同步改变。\n",
    "a"
   ]
  },
  {
   "cell_type": "code",
   "execution_count": 22,
   "id": "fc1e17e1",
   "metadata": {},
   "outputs": [
    {
     "data": {
      "text/plain": [
       "[-1, 100, 2, 3, 4, 5]"
      ]
     },
     "execution_count": 22,
     "metadata": {},
     "output_type": "execute_result"
    }
   ],
   "source": [
    " my_list ###在上述操作后，对象my_list与a标签绑定，同步改变。"
   ]
  },
  {
   "cell_type": "code",
   "execution_count": 23,
   "id": "2fdefd4a",
   "metadata": {},
   "outputs": [
    {
     "data": {
      "text/plain": [
       "[1, 2, 1, 2, 1, 2]"
      ]
     },
     "execution_count": 23,
     "metadata": {},
     "output_type": "execute_result"
    }
   ],
   "source": [
    "[1,2]*3 #[1,2]这个对象*3份"
   ]
  },
  {
   "cell_type": "code",
   "execution_count": 25,
   "id": "06af7d97",
   "metadata": {},
   "outputs": [
    {
     "data": {
      "text/plain": [
       "[1, 2, 3, 4]"
      ]
     },
     "execution_count": 25,
     "metadata": {},
     "output_type": "execute_result"
    }
   ],
   "source": [
    "[1,2]+[3,4]"
   ]
  },
  {
   "cell_type": "code",
   "execution_count": 28,
   "id": "0fc55fba",
   "metadata": {},
   "outputs": [],
   "source": [
    "a=[]\n",
    "a=list() #创建一个对象"
   ]
  },
  {
   "cell_type": "code",
   "execution_count": 30,
   "id": "c1c636fc",
   "metadata": {},
   "outputs": [
    {
     "data": {
      "text/plain": [
       "[1, 1]"
      ]
     },
     "execution_count": 30,
     "metadata": {},
     "output_type": "execute_result"
    }
   ],
   "source": [
    "a.append(1) #在后面加个1\n",
    "a"
   ]
  },
  {
   "cell_type": "code",
   "execution_count": 42,
   "id": "fb6b7b20",
   "metadata": {},
   "outputs": [
    {
     "data": {
      "text/plain": [
       "[1, 2, 3, 4, 5, 6, 7, 8, 9, 10]"
      ]
     },
     "execution_count": 42,
     "metadata": {},
     "output_type": "execute_result"
    }
   ],
   "source": [
    "a=list()\n",
    "x=1\n",
    "while x <= 10: #循环加入字符串\n",
    "    a.append(x)\n",
    "    x+=1\n",
    "a"
   ]
  },
  {
   "cell_type": "code",
   "execution_count": 37,
   "id": "ddcda2ae",
   "metadata": {},
   "outputs": [
    {
     "data": {
      "text/plain": [
       "['h', 'e', 'l', 'l', 'o']"
      ]
     },
     "execution_count": 37,
     "metadata": {},
     "output_type": "execute_result"
    }
   ],
   "source": [
    "h=list('hello') #list函数加入对象也可加入字符串\n",
    "h"
   ]
  },
  {
   "cell_type": "code",
   "execution_count": 38,
   "id": "8dcb8d7a",
   "metadata": {},
   "outputs": [
    {
     "data": {
      "text/plain": [
       "'h*e*l*l*o'"
      ]
     },
     "execution_count": 38,
     "metadata": {},
     "output_type": "execute_result"
    }
   ],
   "source": [
    "'*'.join(h)"
   ]
  },
  {
   "cell_type": "code",
   "execution_count": 36,
   "id": "ecd13361",
   "metadata": {},
   "outputs": [
    {
     "data": {
      "text/plain": [
       "[1, 2, 3, 4, 5, 6, 7, 8, 9, 10]"
      ]
     },
     "execution_count": 36,
     "metadata": {},
     "output_type": "execute_result"
    }
   ],
   "source": [
    "n=list(range(1,11))#range函数生成范围，前面是闭区间，后面是开区间\n",
    "n"
   ]
  },
  {
   "cell_type": "code",
   "execution_count": 39,
   "id": "436943b6",
   "metadata": {},
   "outputs": [
    {
     "data": {
      "text/plain": [
       "False"
      ]
     },
     "execution_count": 39,
     "metadata": {},
     "output_type": "execute_result"
    }
   ],
   "source": [
    "3 in a #判断a里面是否有3个元素"
   ]
  },
  {
   "cell_type": "code",
   "execution_count": 40,
   "id": "a9241368",
   "metadata": {},
   "outputs": [
    {
     "data": {
      "text/plain": [
       "False"
      ]
     },
     "execution_count": 40,
     "metadata": {},
     "output_type": "execute_result"
    }
   ],
   "source": [
    "0 in a #判断a里面是否有0个元素"
   ]
  },
  {
   "cell_type": "code",
   "execution_count": 41,
   "id": "9dffb4f8",
   "metadata": {},
   "outputs": [
    {
     "data": {
      "text/plain": [
       "False"
      ]
     },
     "execution_count": 41,
     "metadata": {},
     "output_type": "execute_result"
    }
   ],
   "source": [
    "1.1 in a "
   ]
  },
  {
   "cell_type": "code",
   "execution_count": 48,
   "id": "ef65dd19",
   "metadata": {},
   "outputs": [
    {
     "ename": "SyntaxError",
     "evalue": "invalid syntax (<ipython-input-48-b9c8583d7c94>, line 2)",
     "output_type": "error",
     "traceback": [
      "\u001b[1;36m  File \u001b[1;32m\"<ipython-input-48-b9c8583d7c94>\"\u001b[1;36m, line \u001b[1;32m2\u001b[0m\n\u001b[1;33m    if ch = \"a\" or ch = \"e\" or ch = \"i\" or ch = \"o\" or ch = \"u\" :\u001b[0m\n\u001b[1;37m          ^\u001b[0m\n\u001b[1;31mSyntaxError\u001b[0m\u001b[1;31m:\u001b[0m invalid syntax\n"
     ]
    }
   ],
   "source": [
    "ch=input(\"input a char\")\n",
    "if ch = \"a\" or ch = \"e\" or ch = \"i\" or ch = \"o\" or ch = \"u\":\n",
    "    print(\"元音\")\n",
    "else:\n",
    "    print(\"不是元音\")"
   ]
  },
  {
   "cell_type": "code",
   "execution_count": 45,
   "id": "8c21c02f",
   "metadata": {},
   "outputs": [
    {
     "name": "stdout",
     "output_type": "stream",
     "text": [
      "input a chare\n",
      "元音\n"
     ]
    }
   ],
   "source": [
    "ch=input(\"input a char\")\n",
    "if ch in 'aeiou':\n",
    "    print(\"元音\")\n",
    "else:\n",
    "    print(\"不是元音\")"
   ]
  },
  {
   "cell_type": "code",
   "execution_count": 51,
   "id": "f8917ae9",
   "metadata": {},
   "outputs": [
    {
     "name": "stdout",
     "output_type": "stream",
     "text": [
      "0\n",
      "1\n",
      "2\n",
      "3\n",
      "4\n",
      "5\n",
      "6\n",
      "7\n",
      "8\n",
      "9\n"
     ]
    }
   ],
   "source": [
    "for i in range(0,10):\n",
    "    print(i)"
   ]
  },
  {
   "cell_type": "code",
   "execution_count": 57,
   "id": "c8789bcd",
   "metadata": {},
   "outputs": [
    {
     "name": "stdout",
     "output_type": "stream",
     "text": [
      "0*3 = 0\n",
      "1*3 = 1\n",
      "2*3 = 8\n",
      "3*3 = 27\n",
      "4*3 = 64\n",
      "5*3 = 125\n",
      "6*3 = 216\n",
      "7*3 = 343\n",
      "8*3 = 512\n",
      "9*3 = 729\n"
     ]
    }
   ],
   "source": [
    "for i in range(0,10):\n",
    "    print(f'{i}^3 = {i**3}')"
   ]
  },
  {
   "cell_type": "code",
   "execution_count": 59,
   "id": "56348f34",
   "metadata": {},
   "outputs": [
    {
     "name": "stdout",
     "output_type": "stream",
     "text": [
      "         *\n",
      "        ***\n",
      "       *****\n",
      "      *******\n",
      "     *********\n",
      "    ***********\n",
      "   *************\n",
      "  ***************\n",
      " *****************\n",
      "*******************\n"
     ]
    }
   ],
   "source": [
    "for p in range(0,10):\n",
    "    print(' '*(9-p)+'*'*(2*p+1)) #打金字塔，空格和*数量"
   ]
  },
  {
   "cell_type": "code",
   "execution_count": 65,
   "id": "30332128",
   "metadata": {},
   "outputs": [
    {
     "name": "stdout",
     "output_type": "stream",
     "text": [
      "         *         \n",
      "        ***        \n",
      "       *****       \n",
      "      *******      \n",
      "     *********     \n",
      "    ***********    \n",
      "   *************   \n",
      "  ***************  \n",
      " ***************** \n",
      "*******************\n"
     ]
    }
   ],
   "source": [
    "for w in range(0,10):\n",
    "    print(('*'*(2*w+1)).center(19))"
   ]
  },
  {
   "cell_type": "code",
   "execution_count": 72,
   "id": "4d7ed288",
   "metadata": {},
   "outputs": [
    {
     "name": "stdout",
     "output_type": "stream",
     "text": [
      "1*1=1\t1*2=2\t1*3=3\t1*4=4\t1*5=5\t1*6=6\t1*7=7\t1*8=8\t1*9=9\t2*1=2\t2*2=4\t2*3=6\t2*4=8\t2*5=10\t2*6=12\t2*7=14\t2*8=16\t2*9=18\t3*1=3\t3*2=6\t3*3=9\t3*4=12\t3*5=15\t3*6=18\t3*7=21\t3*8=24\t3*9=27\t4*1=4\t4*2=8\t4*3=12\t4*4=16\t4*5=20\t4*6=24\t4*7=28\t4*8=32\t4*9=36\t5*1=5\t5*2=10\t5*3=15\t5*4=20\t5*5=25\t5*6=30\t5*7=35\t5*8=40\t5*9=45\t6*1=6\t6*2=12\t6*3=18\t6*4=24\t6*5=30\t6*6=36\t6*7=42\t6*8=48\t6*9=54\t7*1=7\t7*2=14\t7*3=21\t7*4=28\t7*5=35\t7*6=42\t7*7=49\t7*8=56\t7*9=63\t8*1=8\t8*2=16\t8*3=24\t8*4=32\t8*5=40\t8*6=48\t8*7=56\t8*8=64\t8*9=72\t9*1=9\t9*2=18\t9*3=27\t9*4=36\t9*5=45\t9*6=54\t9*7=63\t9*8=72\t9*9=81\t"
     ]
    }
   ],
   "source": [
    "for y in range(1,10): #前面是闭区间，后面是开区间\n",
    "    for z in range(1,10):\n",
    "        print(f'{y}*{z}={y*z}',end='\\t') #以空格为结尾"
   ]
  },
  {
   "cell_type": "code",
   "execution_count": 73,
   "id": "d77cfa0c",
   "metadata": {},
   "outputs": [
    {
     "name": "stdout",
     "output_type": "stream",
     "text": [
      "1*1=1\t\n",
      "1*2=2\t\n",
      "1*3=3\t\n",
      "1*4=4\t\n",
      "1*5=5\t\n",
      "1*6=6\t\n",
      "1*7=7\t\n",
      "1*8=8\t\n",
      "1*9=9\t\n",
      "2*1=2\t\n",
      "2*2=4\t\n",
      "2*3=6\t\n",
      "2*4=8\t\n",
      "2*5=10\t\n",
      "2*6=12\t\n",
      "2*7=14\t\n",
      "2*8=16\t\n",
      "2*9=18\t\n",
      "3*1=3\t\n",
      "3*2=6\t\n",
      "3*3=9\t\n",
      "3*4=12\t\n",
      "3*5=15\t\n",
      "3*6=18\t\n",
      "3*7=21\t\n",
      "3*8=24\t\n",
      "3*9=27\t\n",
      "4*1=4\t\n",
      "4*2=8\t\n",
      "4*3=12\t\n",
      "4*4=16\t\n",
      "4*5=20\t\n",
      "4*6=24\t\n",
      "4*7=28\t\n",
      "4*8=32\t\n",
      "4*9=36\t\n",
      "5*1=5\t\n",
      "5*2=10\t\n",
      "5*3=15\t\n",
      "5*4=20\t\n",
      "5*5=25\t\n",
      "5*6=30\t\n",
      "5*7=35\t\n",
      "5*8=40\t\n",
      "5*9=45\t\n",
      "6*1=6\t\n",
      "6*2=12\t\n",
      "6*3=18\t\n",
      "6*4=24\t\n",
      "6*5=30\t\n",
      "6*6=36\t\n",
      "6*7=42\t\n",
      "6*8=48\t\n",
      "6*9=54\t\n",
      "7*1=7\t\n",
      "7*2=14\t\n",
      "7*3=21\t\n",
      "7*4=28\t\n",
      "7*5=35\t\n",
      "7*6=42\t\n",
      "7*7=49\t\n",
      "7*8=56\t\n",
      "7*9=63\t\n",
      "8*1=8\t\n",
      "8*2=16\t\n",
      "8*3=24\t\n",
      "8*4=32\t\n",
      "8*5=40\t\n",
      "8*6=48\t\n",
      "8*7=56\t\n",
      "8*8=64\t\n",
      "8*9=72\t\n",
      "9*1=9\t\n",
      "9*2=18\t\n",
      "9*3=27\t\n",
      "9*4=36\t\n",
      "9*5=45\t\n",
      "9*6=54\t\n",
      "9*7=63\t\n",
      "9*8=72\t\n",
      "9*9=81\t\n"
     ]
    }
   ],
   "source": [
    "for y in range(1,10):\n",
    "    for z in range(1,10):\n",
    "        print(f'{y}*{z}={y*z}',end='\\t')\n",
    "        print(\"\")#在末尾重新打一个回车"
   ]
  },
  {
   "cell_type": "code",
   "execution_count": 69,
   "id": "a0885e62",
   "metadata": {},
   "outputs": [
    {
     "name": "stdout",
     "output_type": "stream",
     "text": [
      "1*1=1\t1*2=2\t1*3=3\t1*4=4\t1*5=5\t1*6=6\t1*7=7\t1*8=8\t1*9=9\t\n",
      "\t2*2=4\t2*3=6\t2*4=8\t2*5=10\t2*6=12\t2*7=14\t2*8=16\t2*9=18\t\n",
      "\t\t3*3=9\t3*4=12\t3*5=15\t3*6=18\t3*7=21\t3*8=24\t3*9=27\t\n",
      "\t\t\t4*4=16\t4*5=20\t4*6=24\t4*7=28\t4*8=32\t4*9=36\t\n",
      "\t\t\t\t5*5=25\t5*6=30\t5*7=35\t5*8=40\t5*9=45\t\n",
      "\t\t\t\t\t6*6=36\t6*7=42\t6*8=48\t6*9=54\t\n",
      "\t\t\t\t\t\t7*7=49\t7*8=56\t7*9=63\t\n",
      "\t\t\t\t\t\t\t8*8=64\t8*9=72\t\n",
      "\t\t\t\t\t\t\t\t9*9=81\t\n"
     ]
    }
   ],
   "source": [
    "for y in range(1,10):\n",
    "    for z in range(1,10):\n",
    "        if y <= z:\n",
    "            print(f'{y}*{z}={y*z}',end='\\t') #以空格为结尾\n",
    "        else:\n",
    "            print('\\t',end='')\n",
    "    print(\"\")"
   ]
  },
  {
   "cell_type": "code",
   "execution_count": 74,
   "id": "85f52704",
   "metadata": {},
   "outputs": [
    {
     "data": {
      "text/plain": [
       "[100, 2, 3]"
      ]
     },
     "execution_count": 74,
     "metadata": {},
     "output_type": "execute_result"
    }
   ],
   "source": [
    "a=[1,2,3]\n",
    "b=a\n",
    "b[0]=100 #此时会出现重新覆盖赋值的情况。\n",
    "a"
   ]
  },
  {
   "cell_type": "code",
   "execution_count": 76,
   "id": "7e49e0ac",
   "metadata": {},
   "outputs": [
    {
     "data": {
      "text/plain": [
       "[1, 2, 3]"
      ]
     },
     "execution_count": 76,
     "metadata": {},
     "output_type": "execute_result"
    }
   ],
   "source": [
    "a=[1,2,3]\n",
    "b=a.copy() #b等于a的复制体\n",
    "b[0]=100\n",
    "a"
   ]
  },
  {
   "cell_type": "code",
   "execution_count": 77,
   "id": "b1814488",
   "metadata": {},
   "outputs": [
    {
     "data": {
      "text/plain": [
       "[1, 2, 3, [4, 5]]"
      ]
     },
     "execution_count": 77,
     "metadata": {},
     "output_type": "execute_result"
    }
   ],
   "source": [
    "a=[1,2,3]\n",
    "a.append([4,5]) #Python里面的元素都是独立的，因此可以出现嵌套。\n",
    "a"
   ]
  },
  {
   "cell_type": "code",
   "execution_count": 83,
   "id": "42ef14a7",
   "metadata": {},
   "outputs": [
    {
     "data": {
      "text/plain": [
       "[1, 2, 3, [4, 5]]"
      ]
     },
     "execution_count": 83,
     "metadata": {},
     "output_type": "execute_result"
    }
   ],
   "source": [
    "a=[1,2,3]\n",
    "a.append([4,5]) \n",
    "b=a.copy()\n",
    "b[0]=10\n",
    "b"
   ]
  },
  {
   "cell_type": "code",
   "execution_count": 81,
   "id": "a8ab0513",
   "metadata": {},
   "outputs": [
    {
     "data": {
      "text/plain": [
       "[1, 2, 3, [40, 5]]"
      ]
     },
     "execution_count": 81,
     "metadata": {},
     "output_type": "execute_result"
    }
   ],
   "source": [
    "b[-1][0]=40 #对b标签的最后一个元素的第一个元素赋值40后，因为在多标签嵌套时，b的嵌套标签赋值来自a标签路径，因此修改该赋值后，a的对应复制也被修改\n",
    "b\n",
    "a"
   ]
  },
  {
   "cell_type": "code",
   "execution_count": 84,
   "id": "3225875a",
   "metadata": {},
   "outputs": [
    {
     "name": "stdout",
     "output_type": "stream",
     "text": [
      "[1, 2, 3, [4, 5]]\n",
      "****************************************\n",
      "[1, 2, 3, [4, 5]]\n"
     ]
    }
   ],
   "source": [
    "from copy import deepcopy\n",
    "a=[1,2,3,[4,5]] \n",
    "b=deepcopy(a) #深度复制时为完全的数值复制，不会受到copy影响\n",
    "\n",
    "print(a)\n",
    "print('*'*40)\n",
    "print(b)"
   ]
  },
  {
   "cell_type": "code",
   "execution_count": 85,
   "id": "96f8252a",
   "metadata": {},
   "outputs": [
    {
     "name": "stdout",
     "output_type": "stream",
     "text": [
      "[1, 2, 3, [4, 5]]\n",
      "****************************************\n",
      "[100, 2, 3, [40, 5]]\n"
     ]
    }
   ],
   "source": [
    "#接上一个\n",
    "b[0]=100\n",
    "b[-1][0]=40\n",
    "print(a)\n",
    "print('*'*40)\n",
    "print(b)"
   ]
  },
  {
   "cell_type": "code",
   "execution_count": null,
   "id": "df8391d4",
   "metadata": {},
   "outputs": [],
   "source": []
  },
  {
   "cell_type": "code",
   "execution_count": null,
   "id": "5b923c17",
   "metadata": {},
   "outputs": [],
   "source": []
  },
  {
   "cell_type": "code",
   "execution_count": null,
   "id": "65a59b79",
   "metadata": {},
   "outputs": [],
   "source": []
  },
  {
   "cell_type": "code",
   "execution_count": null,
   "id": "87f75786",
   "metadata": {},
   "outputs": [],
   "source": []
  },
  {
   "cell_type": "code",
   "execution_count": null,
   "id": "8aaf7439",
   "metadata": {},
   "outputs": [],
   "source": []
  }
 ],
 "metadata": {
  "kernelspec": {
   "display_name": "Python 3",
   "language": "python",
   "name": "python3"
  },
  "language_info": {
   "codemirror_mode": {
    "name": "ipython",
    "version": 3
   },
   "file_extension": ".py",
   "mimetype": "text/x-python",
   "name": "python",
   "nbconvert_exporter": "python",
   "pygments_lexer": "ipython3",
   "version": "3.8.8"
  }
 },
 "nbformat": 4,
 "nbformat_minor": 5
}
