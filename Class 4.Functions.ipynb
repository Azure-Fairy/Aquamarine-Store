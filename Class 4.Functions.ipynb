{
 "cells": [
  {
   "cell_type": "code",
   "execution_count": 1,
   "id": "211ca440",
   "metadata": {},
   "outputs": [],
   "source": [
    "def hello(name):\n",
    "    print(f'Hello,{name}!')"
   ]
  },
  {
   "cell_type": "code",
   "execution_count": 2,
   "id": "c33b9214",
   "metadata": {},
   "outputs": [
    {
     "data": {
      "text/plain": [
       "<function __main__.hello(name)>"
      ]
     },
     "execution_count": 2,
     "metadata": {},
     "output_type": "execute_result"
    }
   ],
   "source": [
    "hello"
   ]
  },
  {
   "cell_type": "code",
   "execution_count": 3,
   "id": "cf5d30e0",
   "metadata": {},
   "outputs": [
    {
     "data": {
      "text/plain": [
       "True"
      ]
     },
     "execution_count": 3,
     "metadata": {},
     "output_type": "execute_result"
    }
   ],
   "source": [
    "callable(hello)"
   ]
  },
  {
   "cell_type": "code",
   "execution_count": 4,
   "id": "e88cdc6d",
   "metadata": {},
   "outputs": [
    {
     "name": "stdout",
     "output_type": "stream",
     "text": [
      "Hello,world!\n"
     ]
    }
   ],
   "source": [
    "hello('world')"
   ]
  },
  {
   "cell_type": "code",
   "execution_count": 13,
   "id": "a4e9cbc8",
   "metadata": {},
   "outputs": [],
   "source": [
    "def hello(name):\n",
    "    'Say hello to the specified person' #说明文字加在第一行\n",
    "    width = 50\n",
    "    print('*' * width)\n",
    "    print(f'Hello,{name}!'.center(width - 2).center(width,'*'))\n",
    "    print('*' * width)\n",
    "#定义一个新函数，函数效果如下所示"
   ]
  },
  {
   "cell_type": "code",
   "execution_count": 7,
   "id": "66d924ec",
   "metadata": {},
   "outputs": [
    {
     "data": {
      "text/plain": [
       "'*        test        *'"
      ]
     },
     "execution_count": 7,
     "metadata": {},
     "output_type": "execute_result"
    }
   ],
   "source": [
    "'test'.center(20).center(22,'*') \n",
    "#center用空格填充至20长度，加*至22长度"
   ]
  },
  {
   "cell_type": "code",
   "execution_count": 14,
   "id": "298621c4",
   "metadata": {},
   "outputs": [
    {
     "name": "stdout",
     "output_type": "stream",
     "text": [
      "**************************************************\n",
      "*                  Hello,ecnu!                   *\n",
      "**************************************************\n"
     ]
    }
   ],
   "source": [
    "hello('ecnu')"
   ]
  },
  {
   "cell_type": "code",
   "execution_count": 12,
   "id": "e04f7540",
   "metadata": {},
   "outputs": [
    {
     "name": "stdout",
     "output_type": "stream",
     "text": [
      "Help on built-in function sum in module builtins:\n",
      "\n",
      "sum(iterable, /, start=0)\n",
      "    Return the sum of a 'start' value (default: 0) plus an iterable of numbers\n",
      "    \n",
      "    When the iterable is empty, return the start value.\n",
      "    This function is intended specifically for use with numeric values and may\n",
      "    reject non-numeric types.\n",
      "\n"
     ]
    }
   ],
   "source": [
    "help(sum)"
   ]
  },
  {
   "cell_type": "code",
   "execution_count": 15,
   "id": "43fa898e",
   "metadata": {},
   "outputs": [
    {
     "name": "stdout",
     "output_type": "stream",
     "text": [
      "Help on function hello in module __main__:\n",
      "\n",
      "hello(name)\n",
      "    Say hello to the specified person\n",
      "\n"
     ]
    }
   ],
   "source": [
    "help(hello)\n",
    "#即hello.__doc__"
   ]
  },
  {
   "cell_type": "code",
   "execution_count": 18,
   "id": "23e79341",
   "metadata": {},
   "outputs": [
    {
     "ename": "AttributeError",
     "evalue": "'function' object has no attribute '__doc__hello'",
     "output_type": "error",
     "traceback": [
      "\u001b[1;31m---------------------------------------------------------------------------\u001b[0m",
      "\u001b[1;31mAttributeError\u001b[0m                            Traceback (most recent call last)",
      "\u001b[1;32m<ipython-input-18-bf243f620a72>\u001b[0m in \u001b[0;36m<module>\u001b[1;34m\u001b[0m\n\u001b[1;32m----> 1\u001b[1;33m \u001b[0mhello\u001b[0m\u001b[1;33m.\u001b[0m\u001b[0m__doc__hello\u001b[0m\u001b[1;33m.\u001b[0m\u001b[0m__doc__hello\u001b[0m\u001b[1;33m.\u001b[0m\u001b[0m__doc__\u001b[0m\u001b[1;33m\u001b[0m\u001b[1;33m\u001b[0m\u001b[0m\n\u001b[0m",
      "\u001b[1;31mAttributeError\u001b[0m: 'function' object has no attribute '__doc__hello'"
     ]
    }
   ],
   "source": [
    "hello.__doc__"
   ]
  },
  {
   "cell_type": "code",
   "execution_count": 24,
   "id": "cf9045ce",
   "metadata": {},
   "outputs": [
    {
     "name": "stdout",
     "output_type": "stream",
     "text": [
      "[1, 1, 2, 3, 5, 8, 13, 21, 34, 55, 89, 144, 233, 377, 610, 987, 1597, 2584, 4181, 6765, 10946, 17711]\n"
     ]
    }
   ],
   "source": [
    "fibs = [1,1]\n",
    "for i in range(20):\n",
    "    fibs.append(fibs[-2] + fibs[-1])\n",
    "    \n",
    "print(fibs)\n",
    "\n",
    "#斐波那契数列"
   ]
  },
  {
   "cell_type": "code",
   "execution_count": 30,
   "id": "891f32d7",
   "metadata": {},
   "outputs": [],
   "source": [
    "def fibs(num):\n",
    "    result = [1,1]\n",
    "    for i in range(num):\n",
    "        result.append(result[-2] + result[-1])\n",
    "    return result\n",
    "\n",
    "#定义斐波那契数列函数"
   ]
  },
  {
   "cell_type": "code",
   "execution_count": 33,
   "id": "f9d0513c",
   "metadata": {},
   "outputs": [
    {
     "data": {
      "text/plain": [
       "[1, 1, 2, 3, 5, 8, 13, 21, 34, 55, 89, 144]"
      ]
     },
     "execution_count": 33,
     "metadata": {},
     "output_type": "execute_result"
    }
   ],
   "source": [
    "fibs(10)"
   ]
  },
  {
   "cell_type": "code",
   "execution_count": 38,
   "id": "84980351",
   "metadata": {},
   "outputs": [
    {
     "name": "stdout",
     "output_type": "stream",
     "text": [
      "How many steps? 10\n",
      "Total number of different ways: 144\n"
     ]
    }
   ],
   "source": [
    "def lastfib(num):\n",
    "    result = [1,1]\n",
    "    for i in range(num):\n",
    "        result.append(result[-2] + result[-1])\n",
    "    return result[-1]  #返回最后一个数\n",
    "\n",
    "num = int(input('How many steps? '))\n",
    "print(f'Total number of different ways: {lastfib(num)}')"
   ]
  },
  {
   "cell_type": "code",
   "execution_count": 39,
   "id": "9e6e4c61",
   "metadata": {},
   "outputs": [
    {
     "name": "stdout",
     "output_type": "stream",
     "text": [
      "How many steps? 10\n",
      "Total number of different ways: 55\n"
     ]
    }
   ],
   "source": [
    "def fib(num):\n",
    "    item_before_last,last = 1,1\n",
    "    for i in range(num - 2):\n",
    "         item_before_last,last = last, item_before_last + last\n",
    "    return last\n",
    "\n",
    "num = int(input('How many steps? '))\n",
    "print(f'Total number of different ways: {fib(num)}')"
   ]
  },
  {
   "cell_type": "code",
   "execution_count": 42,
   "id": "c9184441",
   "metadata": {},
   "outputs": [
    {
     "name": "stdout",
     "output_type": "stream",
     "text": [
      "['hello']\n"
     ]
    }
   ],
   "source": [
    "def change(a):\n",
    "    a[0] = 'hello'\n",
    "\n",
    "x = ['hi']\n",
    "change(x)\n",
    "print(x)"
   ]
  },
  {
   "cell_type": "code",
   "execution_count": 49,
   "id": "4de28ee9",
   "metadata": {},
   "outputs": [
    {
     "name": "stdout",
     "output_type": "stream",
     "text": [
      "**************************************************\n",
      "*                  Hello,ecnu!                   *\n",
      "**************************************************\n"
     ]
    }
   ],
   "source": [
    "def hello(name,greeting = 'Hello', width = 50):\n",
    "    'Say hello to the specified person' #说明文字加在第一行\n",
    "    print('*' * width)\n",
    "    print(f'{greeting},{name}!'.center(width - 2).center(width,'*'))\n",
    "    print('*' * width)\n",
    "    \n",
    "hello('ecnu','Hello')"
   ]
  },
  {
   "cell_type": "code",
   "execution_count": 47,
   "id": "b384f95f",
   "metadata": {},
   "outputs": [
    {
     "name": "stdout",
     "output_type": "stream",
     "text": [
      "**************************************************\n",
      "*                  hello,ecnu!!                  *\n",
      "**************************************************\n"
     ]
    }
   ],
   "source": [
    "hello(greeting = 'hello',name = \"ecnu!\")"
   ]
  },
  {
   "cell_type": "code",
   "execution_count": 52,
   "id": "a79c0e59",
   "metadata": {},
   "outputs": [
    {
     "name": "stdout",
     "output_type": "stream",
     "text": [
      "****************************************************************************************************\n",
      "*                                           Hello,ecnu!                                            *\n",
      "****************************************************************************************************\n"
     ]
    }
   ],
   "source": [
    "hello('ecnu',width=100)"
   ]
  },
  {
   "cell_type": "code",
   "execution_count": 54,
   "id": "1f5ccff1",
   "metadata": {},
   "outputs": [
    {
     "name": "stdout",
     "output_type": "stream",
     "text": [
      "(1, 2)\n"
     ]
    }
   ],
   "source": [
    "#加入星号的情况为将输入内容打包\n",
    "def add_all(*params):\n",
    "    print(params)\n",
    "    \n",
    "add_all(1,2)"
   ]
  },
  {
   "cell_type": "code",
   "execution_count": 55,
   "id": "d2081c89",
   "metadata": {},
   "outputs": [
    {
     "name": "stdout",
     "output_type": "stream",
     "text": [
      "(1, 2, 3, 4)\n"
     ]
    }
   ],
   "source": [
    "add_all(1,2,3,4)"
   ]
  },
  {
   "cell_type": "code",
   "execution_count": 59,
   "id": "83179ede",
   "metadata": {},
   "outputs": [
    {
     "name": "stdout",
     "output_type": "stream",
     "text": [
      "test\n"
     ]
    },
    {
     "data": {
      "text/plain": [
       "15"
      ]
     },
     "execution_count": 59,
     "metadata": {},
     "output_type": "execute_result"
    }
   ],
   "source": [
    "def add_all(name,*params):\n",
    "    print(name)\n",
    "    return sum(params)\n",
    "\n",
    "add_all('test',1,2,3,4,5)"
   ]
  },
  {
   "cell_type": "code",
   "execution_count": 60,
   "id": "066b5498",
   "metadata": {},
   "outputs": [
    {
     "name": "stdout",
     "output_type": "stream",
     "text": [
      "{'x': 1, 'y': 2}\n"
     ]
    }
   ],
   "source": [
    "#两个星号直接设置为字典\n",
    "def test(**params):\n",
    "    print(params)\n",
    "    \n",
    "test(x=1,y=2)"
   ]
  },
  {
   "cell_type": "code",
   "execution_count": 61,
   "id": "7e07b1c9",
   "metadata": {},
   "outputs": [
    {
     "name": "stdout",
     "output_type": "stream",
     "text": [
      "**************************************************\n",
      "*                  hello,ecnu!                   *\n",
      "**************************************************\n"
     ]
    }
   ],
   "source": [
    "def hello(name,greeting = 'Hello', width = 50):\n",
    "    print('*' * width)\n",
    "    print(f'{greeting},{name}!'.center(width - 2).center(width,'*'))\n",
    "    print('*' * width)\n",
    "    \n",
    "params = {'name':'ecnu','greeting':'hello','width':50}\n",
    "hello(**params)"
   ]
  },
  {
   "cell_type": "code",
   "execution_count": 62,
   "id": "8dca896e",
   "metadata": {},
   "outputs": [
    {
     "data": {
      "text/plain": [
       "{'__name__': '__main__',\n",
       " '__doc__': 'Automatically created module for IPython interactive environment',\n",
       " '__package__': None,\n",
       " '__loader__': None,\n",
       " '__spec__': None,\n",
       " '__builtin__': <module 'builtins' (built-in)>,\n",
       " '__builtins__': <module 'builtins' (built-in)>,\n",
       " '_ih': ['',\n",
       "  \"def hello(name):\\n    print(f'Hello,{name}!')\",\n",
       "  'hello',\n",
       "  'callable(hello)',\n",
       "  \"hello('world')\",\n",
       "  'test.center(20)',\n",
       "  \"'test'.center(20)\",\n",
       "  \"'test'.center(20).center(22,'*')\",\n",
       "  \"def hello(name):\\n    width = 50\\n    print('*' * width)\\n    print(f'Hello,{name}!'.center(width - 2).center(width,'*'))\\n    print('*' * width)\",\n",
       "  'hello(ecnu)',\n",
       "  \"hello('ecnu')\",\n",
       "  'help(sum)',\n",
       "  'help(sum)',\n",
       "  \"def hello(name):\\n    'Say hello to the specified person'\\n    width = 50\\n    print('*' * width)\\n    print(f'Hello,{name}!'.center(width - 2).center(width,'*'))\\n    print('*' * width)\\n#定义一个新函数，函数效果如下所示\",\n",
       "  \"hello('ecnu')\",\n",
       "  'help(hello)',\n",
       "  'hello._doc_',\n",
       "  'hello.__doc__',\n",
       "  'hello.__doc__hello.__doc__hello.__doc__',\n",
       "  'fibs = [1,1]\\nfor i in range(8):\\n    fibs.append(fib[-2] +fibs[1])\\n    \\nprint(fibs)',\n",
       "  'fibs = [1,1]\\nfor i in range(8):\\n    fibs.append(fib[-2] + fibs[1])\\n    \\nprint(fibs)',\n",
       "  'fibs = [1,1]\\nfor i in range(8):\\n    fibs.append(fib[-2] + fibs[-1])\\n    \\nprint(fibs)',\n",
       "  'fibs = [1,1]\\nfor i in range(20):\\n    fibs.append(fib[-2] + fibs[-1])\\n    \\nprint(fibs)',\n",
       "  'fibs = [1,1]\\nfor i in range(20):\\n    fibs.append(fibs[-2] + fibs[-1])\\n    \\nprint(fibs)',\n",
       "  'fibs = [1,1]\\nfor i in range(20):\\n    fibs.append(fibs[-2] + fibs[-1])\\n    \\nprint(fibs)\\n\\n#斐波那契数列',\n",
       "  'def fib(num):\\n    result = [1,1]\\n    for i in range(num):\\n        result.append(result[-2] + result[-1])\\n    return result',\n",
       "  'def fibs(num):\\n    result = [1,1]\\n    for i in range(num):\\n        result.append(result[-2] + result[-1])\\n    return result',\n",
       "  'def fibs(num):\\n    result = [1,1]\\n    for i in range(num):\\n        result.append(result[-2] + result[-1])\\n    return result',\n",
       "  'def fibs(num):\\n    result = [1,1]\\n    for i in range(num):\\n        result.append(result[-2] + result[-1])\\n    return result',\n",
       "  'fibs(20)',\n",
       "  'def fibs(num):\\n    result = [1,1]\\n    for i in range(num):\\n        result.append(result[-2] + result[-1])\\n    return result\\n#定义斐波那契数列函数',\n",
       "  'fibs(20)',\n",
       "  'fibs(10)',\n",
       "  'fibs(10)',\n",
       "  \"def fibs(num):\\n    result = [1,1]\\n    for i in range(num):\\n        result.append(result[-2] + result[-1])\\n    return result[-1]  #返回最后一个数\\n\\nnum = int(input('How many steps?'))\\nprint(f'Total number of different ways: {fib(num)}')\",\n",
       "  \"def fibs(num):\\n    result = [1,1]\\n    for i in range(num):\\n        result.append(result[-2] + result[-1])\\n    return result[-1]  #返回最后一个数\\n\\nnum = int(input('How many steps?'))\\nprint(f'Total number of different ways: {fib(num)}')\",\n",
       "  \"def fibs(num):\\n    result = [1,1]\\n    for i in range(num):\\n        result.append(result[-2] + result[-1])\\n    return result[-1]  #返回最后一个数\\n\\nnum = int(input('How many steps?'))\\nprint(f'Total number of different ways: {fibs(num)}')\",\n",
       "  \"def lastfib(num):\\n    result = [1,1]\\n    for i in range(num):\\n        result.append(result[-2] + result[-1])\\n    return result[-1]  #返回最后一个数\\n\\nnum = int(input('How many steps?'))\\nprint(f'Total number of different ways: {lastfib(num)}')\",\n",
       "  \"def lastfib(num):\\n    result = [1,1]\\n    for i in range(num):\\n        result.append(result[-2] + result[-1])\\n    return result[-1]  #返回最后一个数\\n\\nnum = int(input('How many steps? '))\\nprint(f'Total number of different ways: {lastfib(num)}')\",\n",
       "  \"def fib(num):\\n    item_before_last,last = 1,1\\n    for i in range(num - 2):\\n         item_before_last,last = last, item_before_last + last\\n    return last\\n\\nnum = int(input('How many steps? '))\\nprint(f'Total number of different ways: {fib(num)}')\",\n",
       "  \"def change(a):\\n    a[0] = 'hello'\\n\\nx = ['hi']\\nchange(x)\\nprint(x)\",\n",
       "  \"def change(a):\\n    a[0] = 'hello'\\n\\nx = ['hi']\\nchange(x)\\nprint(x)\",\n",
       "  \"def change(a):\\n    a[0] = 'hello'\\n\\nx = ['hi']\\nchange(x)\\nprint(x)\",\n",
       "  \"def hello(name,greeting):\\n    'Say hello to the specified person' #说明文字加在第一行\\n    width = 50\\n    print('*' * width)\\n    print(f'Hello,{name}!'.center(width - 2).center(width,'*'))\\n    print('*' * width)\\n    \\nhello('ecnu','Hello')\",\n",
       "  \"def hello(name,greeting):\\n    'Say hello to the specified person' #说明文字加在第一行\\n    width = 50\\n    print('*' * width)\\n    print(f'{greeting},{name}!'.center(width - 2).center(width,'*'))\\n    print('*' * width)\\n    \\nhello('ecnu','Hello')\",\n",
       "  'hello(greeting = \\'hello\\',name = \"ecnu!\")',\n",
       "  'hello(greeting = \\'hello\\',name = \"ecnu!\")',\n",
       "  'hello(greeting = \\'hello\\',name = \"ecnu!\")',\n",
       "  \"hello('ecnu',width=100)\",\n",
       "  \"def hello(name,greeting = 'Hello', width = 50):\\n    'Say hello to the specified person' #说明文字加在第一行\\n    print('*' * width)\\n    print(f'{greeting},{name}!'.center(width - 2).center(width,'*'))\\n    print('*' * width)\\n    \\nhello('ecnu','Hello')\",\n",
       "  \"hello('ecnu',width=100)\",\n",
       "  \"hello('ecnu',width=100)\",\n",
       "  \"hello('ecnu',width=100)\",\n",
       "  'def add_all(*params):\\n    print(params)\\n    \\nadd_all(1,2)',\n",
       "  'def add_all(*params):\\n    print(params)\\n    \\nadd_all(1,2)',\n",
       "  'add_all(1,2,3,4)',\n",
       "  'def add_all(*params):\\n    return sum(params)',\n",
       "  'def add_all(*params):\\n    return sum(params)\\n\\nadd_all(1,2,3,4,5)',\n",
       "  \"def add_all(*params):\\n    print(name)\\n    return sum(params)\\n\\nadd_all('test',1,2,3,4,5)\",\n",
       "  \"def add_all(name,*params):\\n    print(name)\\n    return sum(params)\\n\\nadd_all('test',1,2,3,4,5)\",\n",
       "  'def test(**params):\\n    print(params)\\n    \\ntest(x=1,y=2)',\n",
       "  \"def hello(name,greeting = 'Hello', width = 50):\\n    print('*' * width)\\n    print(f'{greeting},{name}!'.center(width - 2).center(width,'*'))\\n    print('*' * width)\\n    \\nparams = {'name':'ecnu','greeting':'hello','width':50}\\nhello(**params)\",\n",
       "  'vars()'],\n",
       " '_oh': {2: <function __main__.hello(name)>,\n",
       "  3: True,\n",
       "  6: '        test        ',\n",
       "  7: '*        test        *',\n",
       "  17: 'Say hello to the specified person',\n",
       "  29: [1,\n",
       "   1,\n",
       "   2,\n",
       "   3,\n",
       "   5,\n",
       "   8,\n",
       "   13,\n",
       "   21,\n",
       "   34,\n",
       "   55,\n",
       "   89,\n",
       "   144,\n",
       "   233,\n",
       "   377,\n",
       "   610,\n",
       "   987,\n",
       "   1597,\n",
       "   2584,\n",
       "   4181,\n",
       "   6765,\n",
       "   10946,\n",
       "   17711],\n",
       "  31: [1,\n",
       "   1,\n",
       "   2,\n",
       "   3,\n",
       "   5,\n",
       "   8,\n",
       "   13,\n",
       "   21,\n",
       "   34,\n",
       "   55,\n",
       "   89,\n",
       "   144,\n",
       "   233,\n",
       "   377,\n",
       "   610,\n",
       "   987,\n",
       "   1597,\n",
       "   2584,\n",
       "   4181,\n",
       "   6765,\n",
       "   10946,\n",
       "   17711],\n",
       "  32: [1, 1, 2, 3, 5, 8, 13, 21, 34, 55, 89, 144],\n",
       "  33: [1, 1, 2, 3, 5, 8, 13, 21, 34, 55, 89, 144],\n",
       "  57: 15,\n",
       "  59: 15},\n",
       " '_dh': ['C:\\\\Users\\\\86405'],\n",
       " 'In': ['',\n",
       "  \"def hello(name):\\n    print(f'Hello,{name}!')\",\n",
       "  'hello',\n",
       "  'callable(hello)',\n",
       "  \"hello('world')\",\n",
       "  'test.center(20)',\n",
       "  \"'test'.center(20)\",\n",
       "  \"'test'.center(20).center(22,'*')\",\n",
       "  \"def hello(name):\\n    width = 50\\n    print('*' * width)\\n    print(f'Hello,{name}!'.center(width - 2).center(width,'*'))\\n    print('*' * width)\",\n",
       "  'hello(ecnu)',\n",
       "  \"hello('ecnu')\",\n",
       "  'help(sum)',\n",
       "  'help(sum)',\n",
       "  \"def hello(name):\\n    'Say hello to the specified person'\\n    width = 50\\n    print('*' * width)\\n    print(f'Hello,{name}!'.center(width - 2).center(width,'*'))\\n    print('*' * width)\\n#定义一个新函数，函数效果如下所示\",\n",
       "  \"hello('ecnu')\",\n",
       "  'help(hello)',\n",
       "  'hello._doc_',\n",
       "  'hello.__doc__',\n",
       "  'hello.__doc__hello.__doc__hello.__doc__',\n",
       "  'fibs = [1,1]\\nfor i in range(8):\\n    fibs.append(fib[-2] +fibs[1])\\n    \\nprint(fibs)',\n",
       "  'fibs = [1,1]\\nfor i in range(8):\\n    fibs.append(fib[-2] + fibs[1])\\n    \\nprint(fibs)',\n",
       "  'fibs = [1,1]\\nfor i in range(8):\\n    fibs.append(fib[-2] + fibs[-1])\\n    \\nprint(fibs)',\n",
       "  'fibs = [1,1]\\nfor i in range(20):\\n    fibs.append(fib[-2] + fibs[-1])\\n    \\nprint(fibs)',\n",
       "  'fibs = [1,1]\\nfor i in range(20):\\n    fibs.append(fibs[-2] + fibs[-1])\\n    \\nprint(fibs)',\n",
       "  'fibs = [1,1]\\nfor i in range(20):\\n    fibs.append(fibs[-2] + fibs[-1])\\n    \\nprint(fibs)\\n\\n#斐波那契数列',\n",
       "  'def fib(num):\\n    result = [1,1]\\n    for i in range(num):\\n        result.append(result[-2] + result[-1])\\n    return result',\n",
       "  'def fibs(num):\\n    result = [1,1]\\n    for i in range(num):\\n        result.append(result[-2] + result[-1])\\n    return result',\n",
       "  'def fibs(num):\\n    result = [1,1]\\n    for i in range(num):\\n        result.append(result[-2] + result[-1])\\n    return result',\n",
       "  'def fibs(num):\\n    result = [1,1]\\n    for i in range(num):\\n        result.append(result[-2] + result[-1])\\n    return result',\n",
       "  'fibs(20)',\n",
       "  'def fibs(num):\\n    result = [1,1]\\n    for i in range(num):\\n        result.append(result[-2] + result[-1])\\n    return result\\n#定义斐波那契数列函数',\n",
       "  'fibs(20)',\n",
       "  'fibs(10)',\n",
       "  'fibs(10)',\n",
       "  \"def fibs(num):\\n    result = [1,1]\\n    for i in range(num):\\n        result.append(result[-2] + result[-1])\\n    return result[-1]  #返回最后一个数\\n\\nnum = int(input('How many steps?'))\\nprint(f'Total number of different ways: {fib(num)}')\",\n",
       "  \"def fibs(num):\\n    result = [1,1]\\n    for i in range(num):\\n        result.append(result[-2] + result[-1])\\n    return result[-1]  #返回最后一个数\\n\\nnum = int(input('How many steps?'))\\nprint(f'Total number of different ways: {fib(num)}')\",\n",
       "  \"def fibs(num):\\n    result = [1,1]\\n    for i in range(num):\\n        result.append(result[-2] + result[-1])\\n    return result[-1]  #返回最后一个数\\n\\nnum = int(input('How many steps?'))\\nprint(f'Total number of different ways: {fibs(num)}')\",\n",
       "  \"def lastfib(num):\\n    result = [1,1]\\n    for i in range(num):\\n        result.append(result[-2] + result[-1])\\n    return result[-1]  #返回最后一个数\\n\\nnum = int(input('How many steps?'))\\nprint(f'Total number of different ways: {lastfib(num)}')\",\n",
       "  \"def lastfib(num):\\n    result = [1,1]\\n    for i in range(num):\\n        result.append(result[-2] + result[-1])\\n    return result[-1]  #返回最后一个数\\n\\nnum = int(input('How many steps? '))\\nprint(f'Total number of different ways: {lastfib(num)}')\",\n",
       "  \"def fib(num):\\n    item_before_last,last = 1,1\\n    for i in range(num - 2):\\n         item_before_last,last = last, item_before_last + last\\n    return last\\n\\nnum = int(input('How many steps? '))\\nprint(f'Total number of different ways: {fib(num)}')\",\n",
       "  \"def change(a):\\n    a[0] = 'hello'\\n\\nx = ['hi']\\nchange(x)\\nprint(x)\",\n",
       "  \"def change(a):\\n    a[0] = 'hello'\\n\\nx = ['hi']\\nchange(x)\\nprint(x)\",\n",
       "  \"def change(a):\\n    a[0] = 'hello'\\n\\nx = ['hi']\\nchange(x)\\nprint(x)\",\n",
       "  \"def hello(name,greeting):\\n    'Say hello to the specified person' #说明文字加在第一行\\n    width = 50\\n    print('*' * width)\\n    print(f'Hello,{name}!'.center(width - 2).center(width,'*'))\\n    print('*' * width)\\n    \\nhello('ecnu','Hello')\",\n",
       "  \"def hello(name,greeting):\\n    'Say hello to the specified person' #说明文字加在第一行\\n    width = 50\\n    print('*' * width)\\n    print(f'{greeting},{name}!'.center(width - 2).center(width,'*'))\\n    print('*' * width)\\n    \\nhello('ecnu','Hello')\",\n",
       "  'hello(greeting = \\'hello\\',name = \"ecnu!\")',\n",
       "  'hello(greeting = \\'hello\\',name = \"ecnu!\")',\n",
       "  'hello(greeting = \\'hello\\',name = \"ecnu!\")',\n",
       "  \"hello('ecnu',width=100)\",\n",
       "  \"def hello(name,greeting = 'Hello', width = 50):\\n    'Say hello to the specified person' #说明文字加在第一行\\n    print('*' * width)\\n    print(f'{greeting},{name}!'.center(width - 2).center(width,'*'))\\n    print('*' * width)\\n    \\nhello('ecnu','Hello')\",\n",
       "  \"hello('ecnu',width=100)\",\n",
       "  \"hello('ecnu',width=100)\",\n",
       "  \"hello('ecnu',width=100)\",\n",
       "  'def add_all(*params):\\n    print(params)\\n    \\nadd_all(1,2)',\n",
       "  'def add_all(*params):\\n    print(params)\\n    \\nadd_all(1,2)',\n",
       "  'add_all(1,2,3,4)',\n",
       "  'def add_all(*params):\\n    return sum(params)',\n",
       "  'def add_all(*params):\\n    return sum(params)\\n\\nadd_all(1,2,3,4,5)',\n",
       "  \"def add_all(*params):\\n    print(name)\\n    return sum(params)\\n\\nadd_all('test',1,2,3,4,5)\",\n",
       "  \"def add_all(name,*params):\\n    print(name)\\n    return sum(params)\\n\\nadd_all('test',1,2,3,4,5)\",\n",
       "  'def test(**params):\\n    print(params)\\n    \\ntest(x=1,y=2)',\n",
       "  \"def hello(name,greeting = 'Hello', width = 50):\\n    print('*' * width)\\n    print(f'{greeting},{name}!'.center(width - 2).center(width,'*'))\\n    print('*' * width)\\n    \\nparams = {'name':'ecnu','greeting':'hello','width':50}\\nhello(**params)\",\n",
       "  'vars()'],\n",
       " 'Out': {2: <function __main__.hello(name)>,\n",
       "  3: True,\n",
       "  6: '        test        ',\n",
       "  7: '*        test        *',\n",
       "  17: 'Say hello to the specified person',\n",
       "  29: [1,\n",
       "   1,\n",
       "   2,\n",
       "   3,\n",
       "   5,\n",
       "   8,\n",
       "   13,\n",
       "   21,\n",
       "   34,\n",
       "   55,\n",
       "   89,\n",
       "   144,\n",
       "   233,\n",
       "   377,\n",
       "   610,\n",
       "   987,\n",
       "   1597,\n",
       "   2584,\n",
       "   4181,\n",
       "   6765,\n",
       "   10946,\n",
       "   17711],\n",
       "  31: [1,\n",
       "   1,\n",
       "   2,\n",
       "   3,\n",
       "   5,\n",
       "   8,\n",
       "   13,\n",
       "   21,\n",
       "   34,\n",
       "   55,\n",
       "   89,\n",
       "   144,\n",
       "   233,\n",
       "   377,\n",
       "   610,\n",
       "   987,\n",
       "   1597,\n",
       "   2584,\n",
       "   4181,\n",
       "   6765,\n",
       "   10946,\n",
       "   17711],\n",
       "  32: [1, 1, 2, 3, 5, 8, 13, 21, 34, 55, 89, 144],\n",
       "  33: [1, 1, 2, 3, 5, 8, 13, 21, 34, 55, 89, 144],\n",
       "  57: 15,\n",
       "  59: 15},\n",
       " 'get_ipython': <bound method InteractiveShell.get_ipython of <ipykernel.zmqshell.ZMQInteractiveShell object at 0x00000197CA7C7F40>>,\n",
       " 'exit': <IPython.core.autocall.ZMQExitAutocall at 0x197ca8595b0>,\n",
       " 'quit': <IPython.core.autocall.ZMQExitAutocall at 0x197ca8595b0>,\n",
       " '_': 15,\n",
       " '__': 15,\n",
       " '___': [1, 1, 2, 3, 5, 8, 13, 21, 34, 55, 89, 144],\n",
       " '_i': \"def hello(name,greeting = 'Hello', width = 50):\\n    print('*' * width)\\n    print(f'{greeting},{name}!'.center(width - 2).center(width,'*'))\\n    print('*' * width)\\n    \\nparams = {'name':'ecnu','greeting':'hello','width':50}\\nhello(**params)\",\n",
       " '_ii': 'def test(**params):\\n    print(params)\\n    \\ntest(x=1,y=2)',\n",
       " '_iii': \"def add_all(name,*params):\\n    print(name)\\n    return sum(params)\\n\\nadd_all('test',1,2,3,4,5)\",\n",
       " '_i1': \"def hello(name):\\n    print(f'Hello,{name}!')\",\n",
       " 'hello': <function __main__.hello(name, greeting='Hello', width=50)>,\n",
       " '_i2': 'hello',\n",
       " '_2': <function __main__.hello(name)>,\n",
       " '_i3': 'callable(hello)',\n",
       " '_3': True,\n",
       " '_i4': \"hello('world')\",\n",
       " '_i5': 'test.center(20)',\n",
       " '_i6': \"'test'.center(20)\",\n",
       " '_6': '        test        ',\n",
       " '_i7': \"'test'.center(20).center(22,'*')\",\n",
       " '_7': '*        test        *',\n",
       " '_i8': \"def hello(name):\\n    width = 50\\n    print('*' * width)\\n    print(f'Hello,{name}!'.center(width - 2).center(width,'*'))\\n    print('*' * width)\",\n",
       " '_i9': 'hello(ecnu)',\n",
       " '_i10': \"hello('ecnu')\",\n",
       " '_i11': 'help(sum)',\n",
       " '_i12': 'help(sum)',\n",
       " '_i13': \"def hello(name):\\n    'Say hello to the specified person'\\n    width = 50\\n    print('*' * width)\\n    print(f'Hello,{name}!'.center(width - 2).center(width,'*'))\\n    print('*' * width)\\n#定义一个新函数，函数效果如下所示\",\n",
       " '_i14': \"hello('ecnu')\",\n",
       " '_i15': 'help(hello)',\n",
       " '_i16': 'hello._doc_',\n",
       " '_i17': 'hello.__doc__',\n",
       " '_17': 'Say hello to the specified person',\n",
       " '_i18': 'hello.__doc__hello.__doc__hello.__doc__',\n",
       " '_i19': 'fibs = [1,1]\\nfor i in range(8):\\n    fibs.append(fib[-2] +fibs[1])\\n    \\nprint(fibs)',\n",
       " 'fibs': <function __main__.fibs(num)>,\n",
       " 'i': 19,\n",
       " '_i20': 'fibs = [1,1]\\nfor i in range(8):\\n    fibs.append(fib[-2] + fibs[1])\\n    \\nprint(fibs)',\n",
       " '_i21': 'fibs = [1,1]\\nfor i in range(8):\\n    fibs.append(fib[-2] + fibs[-1])\\n    \\nprint(fibs)',\n",
       " '_i22': 'fibs = [1,1]\\nfor i in range(20):\\n    fibs.append(fib[-2] + fibs[-1])\\n    \\nprint(fibs)',\n",
       " '_i23': 'fibs = [1,1]\\nfor i in range(20):\\n    fibs.append(fibs[-2] + fibs[-1])\\n    \\nprint(fibs)',\n",
       " '_i24': 'fibs = [1,1]\\nfor i in range(20):\\n    fibs.append(fibs[-2] + fibs[-1])\\n    \\nprint(fibs)\\n\\n#斐波那契数列',\n",
       " '_i25': 'def fib(num):\\n    result = [1,1]\\n    for i in range(num):\\n        result.append(result[-2] + result[-1])\\n    return result',\n",
       " 'fib': <function __main__.fib(num)>,\n",
       " '_i26': 'def fibs(num):\\n    result = [1,1]\\n    for i in range(num):\\n        result.append(result[-2] + result[-1])\\n    return result',\n",
       " '_i27': 'def fibs(num):\\n    result = [1,1]\\n    for i in range(num):\\n        result.append(result[-2] + result[-1])\\n    return result',\n",
       " '_i28': 'def fibs(num):\\n    result = [1,1]\\n    for i in range(num):\\n        result.append(result[-2] + result[-1])\\n    return result',\n",
       " '_i29': 'fibs(20)',\n",
       " '_29': [1,\n",
       "  1,\n",
       "  2,\n",
       "  3,\n",
       "  5,\n",
       "  8,\n",
       "  13,\n",
       "  21,\n",
       "  34,\n",
       "  55,\n",
       "  89,\n",
       "  144,\n",
       "  233,\n",
       "  377,\n",
       "  610,\n",
       "  987,\n",
       "  1597,\n",
       "  2584,\n",
       "  4181,\n",
       "  6765,\n",
       "  10946,\n",
       "  17711],\n",
       " '_i30': 'def fibs(num):\\n    result = [1,1]\\n    for i in range(num):\\n        result.append(result[-2] + result[-1])\\n    return result\\n#定义斐波那契数列函数',\n",
       " '_i31': 'fibs(20)',\n",
       " '_31': [1,\n",
       "  1,\n",
       "  2,\n",
       "  3,\n",
       "  5,\n",
       "  8,\n",
       "  13,\n",
       "  21,\n",
       "  34,\n",
       "  55,\n",
       "  89,\n",
       "  144,\n",
       "  233,\n",
       "  377,\n",
       "  610,\n",
       "  987,\n",
       "  1597,\n",
       "  2584,\n",
       "  4181,\n",
       "  6765,\n",
       "  10946,\n",
       "  17711],\n",
       " '_i32': 'fibs(10)',\n",
       " '_32': [1, 1, 2, 3, 5, 8, 13, 21, 34, 55, 89, 144],\n",
       " '_i33': 'fibs(10)',\n",
       " '_33': [1, 1, 2, 3, 5, 8, 13, 21, 34, 55, 89, 144],\n",
       " '_i34': \"def fibs(num):\\n    result = [1,1]\\n    for i in range(num):\\n        result.append(result[-2] + result[-1])\\n    return result[-1]  #返回最后一个数\\n\\nnum = int(input('How many steps?'))\\nprint(f'Total number of different ways: {fib(num)}')\",\n",
       " 'num': 10,\n",
       " '_i35': \"def fibs(num):\\n    result = [1,1]\\n    for i in range(num):\\n        result.append(result[-2] + result[-1])\\n    return result[-1]  #返回最后一个数\\n\\nnum = int(input('How many steps?'))\\nprint(f'Total number of different ways: {fib(num)}')\",\n",
       " '_i36': \"def fibs(num):\\n    result = [1,1]\\n    for i in range(num):\\n        result.append(result[-2] + result[-1])\\n    return result[-1]  #返回最后一个数\\n\\nnum = int(input('How many steps?'))\\nprint(f'Total number of different ways: {fibs(num)}')\",\n",
       " '_i37': \"def lastfib(num):\\n    result = [1,1]\\n    for i in range(num):\\n        result.append(result[-2] + result[-1])\\n    return result[-1]  #返回最后一个数\\n\\nnum = int(input('How many steps?'))\\nprint(f'Total number of different ways: {lastfib(num)}')\",\n",
       " 'lastfib': <function __main__.lastfib(num)>,\n",
       " '_i38': \"def lastfib(num):\\n    result = [1,1]\\n    for i in range(num):\\n        result.append(result[-2] + result[-1])\\n    return result[-1]  #返回最后一个数\\n\\nnum = int(input('How many steps? '))\\nprint(f'Total number of different ways: {lastfib(num)}')\",\n",
       " '_i39': \"def fib(num):\\n    item_before_last,last = 1,1\\n    for i in range(num - 2):\\n         item_before_last,last = last, item_before_last + last\\n    return last\\n\\nnum = int(input('How many steps? '))\\nprint(f'Total number of different ways: {fib(num)}')\",\n",
       " '_i40': \"def change(a):\\n    a[0] = 'hello'\\n\\nx = ['hi']\\nchange(x)\\nprint(x)\",\n",
       " 'change': <function __main__.change(a)>,\n",
       " 'x': ['hello'],\n",
       " '_i41': \"def change(a):\\n    a[0] = 'hello'\\n\\nx = ['hi']\\nchange(x)\\nprint(x)\",\n",
       " '_i42': \"def change(a):\\n    a[0] = 'hello'\\n\\nx = ['hi']\\nchange(x)\\nprint(x)\",\n",
       " '_i43': \"def hello(name,greeting):\\n    'Say hello to the specified person' #说明文字加在第一行\\n    width = 50\\n    print('*' * width)\\n    print(f'Hello,{name}!'.center(width - 2).center(width,'*'))\\n    print('*' * width)\\n    \\nhello('ecnu','Hello')\",\n",
       " '_i44': \"def hello(name,greeting):\\n    'Say hello to the specified person' #说明文字加在第一行\\n    width = 50\\n    print('*' * width)\\n    print(f'{greeting},{name}!'.center(width - 2).center(width,'*'))\\n    print('*' * width)\\n    \\nhello('ecnu','Hello')\",\n",
       " '_i45': 'hello(greeting = \\'hello\\',name = \"ecnu!\")',\n",
       " '_i46': 'hello(greeting = \\'hello\\',name = \"ecnu!\")',\n",
       " '_i47': 'hello(greeting = \\'hello\\',name = \"ecnu!\")',\n",
       " '_i48': \"hello('ecnu',width=100)\",\n",
       " '_i49': \"def hello(name,greeting = 'Hello', width = 50):\\n    'Say hello to the specified person' #说明文字加在第一行\\n    print('*' * width)\\n    print(f'{greeting},{name}!'.center(width - 2).center(width,'*'))\\n    print('*' * width)\\n    \\nhello('ecnu','Hello')\",\n",
       " '_i50': \"hello('ecnu',width=100)\",\n",
       " '_i51': \"hello('ecnu',width=100)\",\n",
       " '_i52': \"hello('ecnu',width=100)\",\n",
       " '_i53': 'def add_all(*params):\\n    print(params)\\n    \\nadd_all(1,2)',\n",
       " 'add_all': <function __main__.add_all(name, *params)>,\n",
       " '_i54': 'def add_all(*params):\\n    print(params)\\n    \\nadd_all(1,2)',\n",
       " '_i55': 'add_all(1,2,3,4)',\n",
       " '_i56': 'def add_all(*params):\\n    return sum(params)',\n",
       " '_i57': 'def add_all(*params):\\n    return sum(params)\\n\\nadd_all(1,2,3,4,5)',\n",
       " '_57': 15,\n",
       " '_i58': \"def add_all(*params):\\n    print(name)\\n    return sum(params)\\n\\nadd_all('test',1,2,3,4,5)\",\n",
       " '_i59': \"def add_all(name,*params):\\n    print(name)\\n    return sum(params)\\n\\nadd_all('test',1,2,3,4,5)\",\n",
       " '_59': 15,\n",
       " '_i60': 'def test(**params):\\n    print(params)\\n    \\ntest(x=1,y=2)',\n",
       " 'test': <function __main__.test(**params)>,\n",
       " '_i61': \"def hello(name,greeting = 'Hello', width = 50):\\n    print('*' * width)\\n    print(f'{greeting},{name}!'.center(width - 2).center(width,'*'))\\n    print('*' * width)\\n    \\nparams = {'name':'ecnu','greeting':'hello','width':50}\\nhello(**params)\",\n",
       " 'params': {'name': 'ecnu', 'greeting': 'hello', 'width': 50},\n",
       " '_i62': 'vars()'}"
      ]
     },
     "execution_count": 62,
     "metadata": {},
     "output_type": "execute_result"
    }
   ],
   "source": [
    "vars()"
   ]
  },
  {
   "cell_type": "code",
   "execution_count": 65,
   "id": "fbaf3d97",
   "metadata": {},
   "outputs": [
    {
     "data": {
      "text/plain": [
       "1"
      ]
     },
     "execution_count": 65,
     "metadata": {},
     "output_type": "execute_result"
    }
   ],
   "source": [
    "x = 1\n",
    "scopes = vars()\n",
    "scopes['x']\n",
    "#查看当前作用域"
   ]
  },
  {
   "cell_type": "code",
   "execution_count": 67,
   "id": "c4c4ea06",
   "metadata": {},
   "outputs": [
    {
     "name": "stdout",
     "output_type": "stream",
     "text": [
      "1\n"
     ]
    }
   ],
   "source": [
    "def test():\n",
    "    x = 2\n",
    "\n",
    "test()\n",
    "print(x)\n",
    "#函数内部的赋值作用域只适用于函数内部，与外界赋值完全无关。"
   ]
  },
  {
   "cell_type": "code",
   "execution_count": 68,
   "id": "13e8b0e7",
   "metadata": {},
   "outputs": [
    {
     "name": "stdout",
     "output_type": "stream",
     "text": [
      "1\n",
      "3\n"
     ]
    }
   ],
   "source": [
    "def test_global():\n",
    "    global x\n",
    "    x = 3\n",
    "#global为全局变量，设置后将在函数内和函数外同时赋值，一般不建议使用\n",
    "\n",
    "print(x)\n",
    "test_global()\n",
    "print(x)"
   ]
  },
  {
   "cell_type": "code",
   "execution_count": null,
   "id": "b3ea73b9",
   "metadata": {},
   "outputs": [],
   "source": [
    "def doublex(x):\n",
    "    return x * 2\n",
    "\n",
    "def triple(x):\n",
    "    return x * 3\n"
   ]
  },
  {
   "cell_type": "code",
   "execution_count": 72,
   "id": "d5273d43",
   "metadata": {},
   "outputs": [
    {
     "name": "stdout",
     "output_type": "stream",
     "text": [
      "10\n"
     ]
    }
   ],
   "source": [
    "#设置进行函数自动生成\n",
    "def multiplier(factor):\n",
    "    def multipliedByFactor(number):\n",
    "        return number * factor\n",
    "    \n",
    "    return multipliedByFactor\n",
    "\n",
    "double = multiplier(2)  #设置因数。\n",
    "print(double(5))"
   ]
  },
  {
   "cell_type": "code",
   "execution_count": 73,
   "id": "7273d3c2",
   "metadata": {},
   "outputs": [
    {
     "name": "stdout",
     "output_type": "stream",
     "text": [
      "9 12\n"
     ]
    }
   ],
   "source": [
    "triple = multiplier(3)\n",
    "print(triple(3),triple(4))"
   ]
  },
  {
   "cell_type": "code",
   "execution_count": 75,
   "id": "2f8c45ca",
   "metadata": {},
   "outputs": [
    {
     "name": "stdout",
     "output_type": "stream",
     "text": [
      "5\n",
      "4\n",
      "3\n",
      "2\n",
      "1\n"
     ]
    }
   ],
   "source": [
    "def print_numbers(n):\n",
    "    print(n)\n",
    "    if n > 1:\n",
    "        print_numbers(n-1)\n",
    "        \n",
    "print_numbers(5)\n",
    "#递归函数"
   ]
  },
  {
   "cell_type": "code",
   "execution_count": 76,
   "id": "7331b57e",
   "metadata": {},
   "outputs": [
    {
     "name": "stdout",
     "output_type": "stream",
     "text": [
      "1\n",
      "2\n",
      "3\n",
      "4\n",
      "5\n"
     ]
    }
   ],
   "source": [
    "def print_numbers(n):\n",
    "    if n > 1:\n",
    "        print_numbers(n-1)\n",
    "    print(n)\n",
    "\n",
    "print_numbers(5)\n",
    "#如果n>1,则执行n-1，直到1时启动print(1),然后继续de2、3、4、5"
   ]
  },
  {
   "cell_type": "code",
   "execution_count": 77,
   "id": "78d1d30a",
   "metadata": {},
   "outputs": [
    {
     "data": {
      "text/plain": [
       "89"
      ]
     },
     "execution_count": 77,
     "metadata": {},
     "output_type": "execute_result"
    }
   ],
   "source": [
    "def Fib(i):\n",
    "    if i == 0 or i == 1:\n",
    "        return 1\n",
    "    else:\n",
    "        return Fib(i-1) + Fib(i-2)\n",
    "    \n",
    "Fib(10)"
   ]
  },
  {
   "cell_type": "code",
   "execution_count": 81,
   "id": "78499bc2",
   "metadata": {},
   "outputs": [
    {
     "data": {
      "text/plain": [
       "39088169"
      ]
     },
     "execution_count": 81,
     "metadata": {},
     "output_type": "execute_result"
    }
   ],
   "source": [
    "cache = dict()\n",
    "def fib_cached(i):\n",
    "    global cache  #定义一个全局变量，设置一个字典进行存储\n",
    "    if i in (0,1):\n",
    "        return 1\n",
    "    else:\n",
    "        result = cache.get(i) #占据空间内容较大、但是效率提升\n",
    "        if result is None:\n",
    "            result = fib_cached(i - 1) + fib_cached(i - 2)\n",
    "            cache[i]  = result\n",
    "        return result\n",
    "    \n",
    "fib_cached(37)"
   ]
  },
  {
   "cell_type": "code",
   "execution_count": 85,
   "id": "09b54221",
   "metadata": {},
   "outputs": [
    {
     "name": "stdout",
     "output_type": "stream",
     "text": [
      "70330367711422815821835254877183549770181269836358732742604905087154537118196933579742249494562611733487750449241765991088186363265450223647106012053374121273867339111198139373125598767690091902245245323403501\n"
     ]
    }
   ],
   "source": [
    "from functools import lru_cache\n",
    "\n",
    "@lru_cache(maxsize = None)\n",
    "def Fib(i):\n",
    "    if i in (0,1):\n",
    "        return 1\n",
    "    else:\n",
    "        return Fib(i-1) + Fib(i-2)\n",
    "    \n",
    "print(Fib(1000))"
   ]
  },
  {
   "cell_type": "code",
   "execution_count": 86,
   "id": "525ff27e",
   "metadata": {},
   "outputs": [
    {
     "data": {
      "text/plain": [
       "['foo', 'x41']"
      ]
     },
     "execution_count": 86,
     "metadata": {},
     "output_type": "execute_result"
    }
   ],
   "source": [
    "seq = ['foo','x41','???','***']\n",
    "[x for x in seq if x.isalnum()]\n",
    "#isalnum()，如果为字母或者数字的话，返回值为True，如果不是则为False\n",
    "#用此方法进行筛选"
   ]
  },
  {
   "cell_type": "code",
   "execution_count": 87,
   "id": "bb0be5d7",
   "metadata": {},
   "outputs": [
    {
     "data": {
      "text/plain": [
       "<filter at 0x197ca995ca0>"
      ]
     },
     "execution_count": 87,
     "metadata": {},
     "output_type": "execute_result"
    }
   ],
   "source": [
    "def func(x):\n",
    "    return x.isalnum()\n",
    "filter(func,seq)\n",
    "#返回一个对象range，通过list可以获得内容"
   ]
  },
  {
   "cell_type": "code",
   "execution_count": 88,
   "id": "e727283c",
   "metadata": {},
   "outputs": [
    {
     "data": {
      "text/plain": [
       "['foo', 'x41']"
      ]
     },
     "execution_count": 88,
     "metadata": {},
     "output_type": "execute_result"
    }
   ],
   "source": [
    "list(filter(func,seq))"
   ]
  },
  {
   "cell_type": "code",
   "execution_count": 91,
   "id": "e0730bf0",
   "metadata": {},
   "outputs": [
    {
     "data": {
      "text/plain": [
       "['foo', 'x41']"
      ]
     },
     "execution_count": 91,
     "metadata": {},
     "output_type": "execute_result"
    }
   ],
   "source": [
    "list(filter(lambda x: x.isalnum(),seq))\n",
    "#lambda表达式用来定义一个临时的无名函数（只能使用一次），冒号前面表示函数的参数，冒号后面表示函数的函数体"
   ]
  },
  {
   "cell_type": "code",
   "execution_count": 94,
   "id": "bf6633c2",
   "metadata": {},
   "outputs": [
    {
     "name": "stdout",
     "output_type": "stream",
     "text": [
      "#                                                          *       #*                                          * \r"
     ]
    }
   ],
   "source": [
    "import math\n",
    "length = 60\n",
    "def wait():  #用随机函数计算作为等待时间，使得结果可以显示而不是一瞬间完成\n",
    "    y = 0\n",
    "    while y < 500000:\n",
    "        z = math.sin(x) * math.exp(x)\n",
    "        y += 1\n",
    "        \n",
    "bar = list()\n",
    "for i in range(0,length):\n",
    "    bar.append(' ')\n",
    "#亦可bar = list(' ' * length)\n",
    "    \n",
    "x = 0\n",
    "y = length - 1\n",
    "for i in range(0,length):\n",
    "    bar[x] = '*'\n",
    "    bar[y] = '#'\n",
    "    for ch in bar:\n",
    "        print(ch,sep='',end='')\n",
    "        \n",
    "    wait()\n",
    "    bar[x] = ' '\n",
    "    bar[y] = ' '\n",
    "    x += 1\n",
    "    y -= 1\n",
    "    print('\\r',end='')"
   ]
  },
  {
   "cell_type": "code",
   "execution_count": null,
   "id": "eba67479",
   "metadata": {},
   "outputs": [],
   "source": [
    "'''\n",
    "init_bar()\n",
    "set_ants_positions()\n",
    "while not is_bar_empty():\n",
    "    update_bar()\n",
    "    show_bar()\n",
    "    wait()\n",
    "    update_ants_positions()    \n",
    "'''\n",
    "from time import sleep  #从Time函数中调取sleep函数\n",
    "\n",
    "def init_bar(length = 60):   #设置bar\n",
    "    bar = list('  ' * length)\n",
    "    return bar\n",
    "\n",
    "def clear_bar(bar):   #清除，启动空bar\n",
    "    for i in range(len(bar)):\n",
    "        bar[i] = ' '\n",
    "        \n",
    "def init_ants(bar_length=60):   #设置蚂蚁的初始位置的内容，设定两个起始点。\n",
    "    ants = list()\n",
    "    ants.append({'position':0,'dirction':1,'symbol':'A'})\n",
    "    ants.append({'position':bar_length - 1,'dirction':-1,'symbol':'B'})\n",
    "    return ants\n",
    "\n",
    "def update_bar(bar,ants):\n",
    "    clear_bar(bar)\n",
    "    for ant in ants:   #对于蚂蚁的位置判定，判定成功后更新蚂蚁位置的图像\n",
    "        if 0 <= ant['position'] < len(bar):\n",
    "            bar[ant['position']] =ant['symbol']#'*'\n",
    "            \n",
    "def is_bar_empty(bar):\n",
    "    for item in bar:\n",
    "        if not item == ' ':\n",
    "            return False\n",
    "    # return bar == ' ' * len(bar)\n",
    "    return True\n",
    "#对bar进行判定，如果bar里面只要有一个不是空格，则判定为False，如果全都是空格，则判定为True\n",
    "\n",
    "def show_bar(bar):\n",
    "    for ch in bar:\n",
    "        print(ch,sep='',end='')\n",
    "    print('\\r',sep='',end='')\n",
    "#设定显示bar的函数\n",
    "    \n",
    "def update_ants(ants):\n",
    "    for ant in ants:\n",
    "        ant['position'] += ant['dirction']\n",
    "#蚂蚁的位置等于蚂蚁的位置加蚂蚁的前进方向。\n",
    "\n",
    "bar = init_bar()\n",
    "ants = init_ants()\n",
    "update_bar(bar,ants)\n",
    "show_bar(bar)\n",
    "\n",
    "while not is_bar_empty(bar):\n",
    "    sleep(0.2)\n",
    "    update_ants(ants)"
   ]
  }
 ],
 "metadata": {
  "kernelspec": {
   "display_name": "Python 3",
   "language": "python",
   "name": "python3"
  },
  "language_info": {
   "codemirror_mode": {
    "name": "ipython",
    "version": 3
   },
   "file_extension": ".py",
   "mimetype": "text/x-python",
   "name": "python",
   "nbconvert_exporter": "python",
   "pygments_lexer": "ipython3",
   "version": "3.8.8"
  }
 },
 "nbformat": 4,
 "nbformat_minor": 5
}
